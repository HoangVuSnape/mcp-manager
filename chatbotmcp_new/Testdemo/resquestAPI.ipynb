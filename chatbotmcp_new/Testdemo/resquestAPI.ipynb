{
 "cells": [
  {
   "cell_type": "code",
   "execution_count": 97,
   "id": "033cf12c",
   "metadata": {},
   "outputs": [],
   "source": [
    "from dotenv import load_dotenv\n",
    "import requests\n",
    "load_dotenv()\n",
    "\n",
    "import os\n",
    "from fastmcp import FastMCP"
   ]
  },
  {
   "cell_type": "markdown",
   "id": "272367cf",
   "metadata": {},
   "source": [
    "# Search\n"
   ]
  },
  {
   "cell_type": "code",
   "execution_count": 99,
   "id": "5ecda752",
   "metadata": {},
   "outputs": [
    {
     "name": "stdout",
     "output_type": "stream",
     "text": [
      "201\n",
      "{'message': 'Success', 'data': {'result': [{'id': '4ebf5c1a-2c9c-4f0f-83ec-33c727921f38', 'email': 'phuonganhchauduong@gmail.com', 'status': 'approved', 'sex': '2', 'nationality': None, 'religion': None, 'level': '3', 'school': '', 'ethnicity': None, 'relative': [], 'degree': None, 'skill': {'mainSkill': [], 'softSkill': [], 'certificates': []}, 'username': 'phuonganhchauduong@gmail.com', 'positions': '55', 'isAdmin': None, 'locationId': 1, 'fillDataToken': None, 'userFilledData': False, 'bankAccount': '', 'departmentName': None, 'projectPrimaryName': None, 'roleName': None, 'positionName': 'PM', 'sexValue': 'Female', 'onBoardStatusValue': 'Onboard', 'religionValue': None, 'degreeValue': None, 'contractTypeValue': None, 'ethnicityValue': None, 'levelValue': 'Level 3', 'maritalStatusValue': None, 'prefixId': None, 'personalEmail': 'anh@gmail.com', 'onBoardStatus': '1', 'startDate': '2025-06-16T04:03:06.684Z', 'endDate': None, 'dateOfBirth': '1979-12-31T17:00:00.000Z', 'firstName': 'Anh', 'lastName': 'Phuong', 'originalPlace': '', 'permanentAddress': '', 'citizenId': '', 'cidIssuedDate': '1970-01-01T00:00:00.000Z', 'cidPlaceOfIssue': '', 'placeOfBirth': '', 'temporaryAddress': '', 'maritalStatus': None, 'schoolMajor': '', 'contractType': None, 'bankName': '', 'bankBranch': '', 'bankAccountNumber': '', 'phoneNumber': '', 'socialInsuranceNumber': '', 'createdAt': '2025-06-18T04:03:40.176Z', 'updatedAt': '2025-06-18T04:06:58.939Z', 'trainingPeriodFrom': '1970-01-01T00:00:00.000Z', 'trainingPeriodTo': '1970-01-01T00:00:00.000Z', 'contractStartDate': None, 'contractExpirationDate': None, 'taxCode': '', 'fullName': 'Phuong Anh', 'managerId': '00479', 'employeeId': '51826', 'fullNameWestern': 'Anh Phuong', 'fullNameNoAccentWestern': 'anh phuong', 'timeZone': 'Asia/Ho_Chi_Minh', 'projectPrimary': None, 'officialDate': None, 'employeeStatus': 'PROBATION', 'allowSigninUsername': None, 'endWorkingDate': None, 'durationContract': None, 'managerName': 'Le Thanh Phat'}, {'id': 'ebedcdd4-70d6-4357-a294-1422f8173208', 'email': 'nguyen.ba.dai@innotech-vn.com', 'status': 'approved', 'sex': '1', 'nationality': None, 'religion': None, 'level': '3', 'school': '', 'ethnicity': None, 'relative': [], 'degree': None, 'skill': {'mainSkill': [], 'softSkill': [], 'certificates': []}, 'username': 'nguyen.ba.dai@innotech-vn.com', 'positions': '52', 'isAdmin': None, 'locationId': 1, 'fillDataToken': None, 'userFilledData': False, 'bankAccount': '', 'departmentName': None, 'projectPrimaryName': None, 'roleName': None, 'positionName': 'Staff', 'sexValue': 'Male', 'onBoardStatusValue': 'Onboard', 'religionValue': None, 'degreeValue': None, 'contractTypeValue': None, 'ethnicityValue': None, 'levelValue': 'Level 3', 'maritalStatusValue': None, 'prefixId': None, 'personalEmail': 'nguyen.ba.dai@innotech-vn.com', 'onBoardStatus': '1', 'startDate': '2025-05-19T07:31:21.680Z', 'endDate': None, 'dateOfBirth': '1979-12-31T17:00:00.000Z', 'firstName': 'Nguyen', 'lastName': 'Ba Dai', 'originalPlace': '', 'permanentAddress': '', 'citizenId': '', 'cidIssuedDate': '1970-01-01T07:00:00.000Z', 'cidPlaceOfIssue': '', 'placeOfBirth': '', 'temporaryAddress': '', 'maritalStatus': None, 'schoolMajor': '', 'contractType': None, 'bankName': '', 'bankBranch': '', 'bankAccountNumber': '', 'phoneNumber': '', 'socialInsuranceNumber': '', 'createdAt': '2025-06-11T07:32:09.761Z', 'updatedAt': '2025-06-16T07:55:36.838Z', 'trainingPeriodFrom': '1970-01-01T07:00:00.000Z', 'trainingPeriodTo': '1970-01-01T07:00:00.000Z', 'contractStartDate': None, 'contractExpirationDate': None, 'taxCode': '', 'fullName': 'Ba Dai Nguyen', 'managerId': '00473', 'employeeId': '44755', 'fullNameWestern': 'Nguyen Ba Dai', 'fullNameNoAccentWestern': 'nguyen ba dai', 'timeZone': 'Asia/Ho_Chi_Minh', 'projectPrimary': None, 'officialDate': None, 'employeeStatus': 'PROBATION', 'allowSigninUsername': None, 'endWorkingDate': None, 'durationContract': None, 'managerName': 'Phát Thành'}, {'id': 'a91c1255-eed5-4ef3-a6be-e652b823ace6', 'email': 'nguyen.huu.tri@innotech-vn.com', 'status': 'approved', 'sex': '1', 'nationality': None, 'religion': None, 'level': '3', 'school': '', 'ethnicity': None, 'relative': [], 'degree': None, 'skill': {'mainSkill': [], 'softSkill': [], 'certificates': []}, 'username': 'nguyen.huu.tri@innotech-vn.com', 'positions': '52', 'isAdmin': None, 'locationId': 1, 'fillDataToken': None, 'userFilledData': False, 'bankAccount': '', 'departmentName': None, 'projectPrimaryName': None, 'roleName': None, 'positionName': 'Staff', 'sexValue': 'Male', 'onBoardStatusValue': 'Onboard', 'religionValue': None, 'degreeValue': None, 'contractTypeValue': None, 'ethnicityValue': None, 'levelValue': 'Level 3', 'maritalStatusValue': None, 'prefixId': None, 'personalEmail': 'nguyen.huu.tri@innotech-vn.com', 'onBoardStatus': '1', 'startDate': '2025-03-17T07:29:31.595Z', 'endDate': None, 'dateOfBirth': '1979-12-31T17:00:00.000Z', 'firstName': 'Nguyen Huu', 'lastName': 'Tri', 'originalPlace': '', 'permanentAddress': '', 'citizenId': '', 'cidIssuedDate': '1970-01-01T00:00:00.000Z', 'cidPlaceOfIssue': '', 'placeOfBirth': '', 'temporaryAddress': '', 'maritalStatus': None, 'schoolMajor': '', 'contractType': None, 'bankName': '', 'bankBranch': '', 'bankAccountNumber': '', 'phoneNumber': '', 'socialInsuranceNumber': '\\xa08222828881', 'createdAt': '2025-06-11T07:29:53.161Z', 'updatedAt': '2025-06-13T07:26:00.480Z', 'trainingPeriodFrom': '1970-01-01T00:00:00.000Z', 'trainingPeriodTo': '1970-01-01T00:00:00.000Z', 'contractStartDate': None, 'contractExpirationDate': None, 'taxCode': '', 'fullName': 'Tri Nguyen Huu', 'managerId': '00473', 'employeeId': '44754', 'fullNameWestern': 'Nguyen Huu Tri', 'fullNameNoAccentWestern': 'nguyen huu tri', 'timeZone': 'Asia/Ho_Chi_Minh', 'projectPrimary': None, 'officialDate': None, 'employeeStatus': 'PROBATION', 'allowSigninUsername': None, 'endWorkingDate': None, 'durationContract': None, 'managerName': 'Phát Thành'}, {'id': '616d90b0-7539-4ac2-8f92-40f47e59bd46', 'email': 'on.thy.nhat.an@innotech-vn.com', 'status': 'approved', 'sex': '1', 'nationality': None, 'religion': None, 'level': '3', 'school': '', 'ethnicity': None, 'relative': [], 'degree': None, 'skill': {'mainSkill': [], 'softSkill': [], 'certificates': []}, 'username': 'on.thy.nhat.an@innotech-vn.com', 'positions': '52', 'isAdmin': None, 'locationId': 1, 'fillDataToken': None, 'userFilledData': False, 'bankAccount': '', 'departmentName': None, 'projectPrimaryName': None, 'roleName': None, 'positionName': 'Staff', 'sexValue': 'Male', 'onBoardStatusValue': 'Onboard', 'religionValue': None, 'degreeValue': None, 'contractTypeValue': None, 'ethnicityValue': None, 'levelValue': 'Level 3', 'maritalStatusValue': None, 'prefixId': None, 'personalEmail': 'on.thy.nhat.an@innotech-vn.com', 'onBoardStatus': '1', 'startDate': '2024-10-21T07:26:48.771Z', 'endDate': None, 'dateOfBirth': '1979-12-31T17:00:00.000Z', 'firstName': 'On Thy', 'lastName': 'Nhat An', 'originalPlace': '', 'permanentAddress': '', 'citizenId': '', 'cidIssuedDate': '1970-01-01T00:00:00.000Z', 'cidPlaceOfIssue': '', 'placeOfBirth': '', 'temporaryAddress': '', 'maritalStatus': None, 'schoolMajor': '', 'contractType': None, 'bankName': '', 'bankBranch': '', 'bankAccountNumber': '', 'phoneNumber': '', 'socialInsuranceNumber': '3620023534\\t', 'createdAt': '2025-06-11T07:27:28.732Z', 'updatedAt': '2025-06-13T07:35:38.343Z', 'trainingPeriodFrom': '1970-01-01T00:00:00.000Z', 'trainingPeriodTo': '1970-01-01T00:00:00.000Z', 'contractStartDate': None, 'contractExpirationDate': None, 'taxCode': '', 'fullName': 'Nhat An On Thy', 'managerId': '00473', 'employeeId': '44752', 'fullNameWestern': 'On Thy Nhat An', 'fullNameNoAccentWestern': 'on thy nhat an', 'timeZone': 'Asia/Ho_Chi_Minh', 'projectPrimary': None, 'officialDate': None, 'employeeStatus': 'PROBATION', 'allowSigninUsername': None, 'endWorkingDate': None, 'durationContract': None, 'managerName': 'Phát Thành'}, {'id': 'a29e72d4-f60d-433a-b9f5-1f0693bdf8d0', 'email': 'huynh.bao.an@innotech-vn.com', 'status': 'approved', 'sex': '2', 'nationality': None, 'religion': None, 'level': '3', 'school': '', 'ethnicity': None, 'relative': [], 'degree': None, 'skill': {'mainSkill': [], 'softSkill': [], 'certificates': []}, 'username': 'huynh.bao.an@innotech-vn.com', 'positions': '52', 'isAdmin': None, 'locationId': 1, 'fillDataToken': None, 'userFilledData': False, 'bankAccount': '', 'departmentName': None, 'projectPrimaryName': None, 'roleName': None, 'positionName': 'Staff', 'sexValue': 'Female', 'onBoardStatusValue': 'Onboard', 'religionValue': None, 'degreeValue': None, 'contractTypeValue': None, 'ethnicityValue': None, 'levelValue': 'Level 3', 'maritalStatusValue': None, 'prefixId': None, 'personalEmail': 'huynh.bao.an@innotech-vn.com', 'onBoardStatus': '1', 'startDate': '2025-05-05T07:25:37.009Z', 'endDate': None, 'dateOfBirth': '1979-12-31T17:00:00.000Z', 'firstName': 'Huy Bao', 'lastName': 'An', 'originalPlace': '', 'permanentAddress': '', 'citizenId': '', 'cidIssuedDate': None, 'cidPlaceOfIssue': '', 'placeOfBirth': '', 'temporaryAddress': '', 'maritalStatus': None, 'schoolMajor': '', 'contractType': None, 'bankName': '', 'bankBranch': '', 'bankAccountNumber': '', 'phoneNumber': '', 'socialInsuranceNumber': '', 'createdAt': '2025-06-11T07:25:46.825Z', 'updatedAt': '2025-06-11T07:25:47.157Z', 'trainingPeriodFrom': None, 'trainingPeriodTo': None, 'contractStartDate': None, 'contractExpirationDate': None, 'taxCode': '', 'fullName': 'An Huy Bao', 'managerId': None, 'employeeId': '44751', 'fullNameWestern': 'Huy Bao An', 'fullNameNoAccentWestern': 'huy bao an', 'timeZone': 'Asia/Ho_Chi_Minh', 'projectPrimary': None, 'officialDate': None, 'employeeStatus': 'PROBATION', 'allowSigninUsername': None, 'endWorkingDate': None, 'durationContract': None}, {'id': '5bf13354-fe47-490f-9e5d-9b037371fe75', 'email': 'do.nguyen.an@innotech-vn.com', 'status': 'approved', 'sex': '2', 'nationality': None, 'religion': None, 'level': '3', 'school': '', 'ethnicity': None, 'relative': [], 'degree': None, 'skill': {'mainSkill': [], 'softSkill': [], 'certificates': []}, 'username': 'do.nguyen.an@innotech-vn.com', 'positions': '52', 'isAdmin': None, 'locationId': 1, 'fillDataToken': None, 'userFilledData': False, 'bankAccount': '', 'departmentName': None, 'projectPrimaryName': None, 'roleName': None, 'positionName': 'Staff', 'sexValue': 'Female', 'onBoardStatusValue': 'Onboard', 'religionValue': None, 'degreeValue': None, 'contractTypeValue': None, 'ethnicityValue': None, 'levelValue': 'Level 3', 'maritalStatusValue': None, 'prefixId': None, 'personalEmail': 'do.nguyen.an@innotech-vn.com', 'onBoardStatus': '1', 'startDate': '2024-05-14T06:59:01.647Z', 'endDate': None, 'dateOfBirth': '1979-12-31T17:00:00.000Z', 'firstName': 'Nguyen An', 'lastName': 'Do', 'originalPlace': '', 'permanentAddress': '', 'citizenId': '', 'cidIssuedDate': None, 'cidPlaceOfIssue': '', 'placeOfBirth': '', 'temporaryAddress': '', 'maritalStatus': None, 'schoolMajor': '', 'contractType': None, 'bankName': '', 'bankBranch': '', 'bankAccountNumber': '', 'phoneNumber': '', 'socialInsuranceNumber': '', 'createdAt': '2025-06-11T07:24:18.122Z', 'updatedAt': '2025-06-11T07:24:18.508Z', 'trainingPeriodFrom': None, 'trainingPeriodTo': None, 'contractStartDate': None, 'contractExpirationDate': None, 'taxCode': '', 'fullName': 'Do Nguyen An', 'managerId': '00473', 'employeeId': '44750', 'fullNameWestern': 'Nguyen An Do', 'fullNameNoAccentWestern': 'nguyen an do', 'timeZone': 'Asia/Ho_Chi_Minh', 'projectPrimary': None, 'officialDate': None, 'employeeStatus': 'PROBATION', 'allowSigninUsername': None, 'endWorkingDate': None, 'durationContract': None, 'managerName': 'Phát Thành'}, {'id': '5e44ffaa-ad70-4282-98fc-ec9768490ab2', 'email': 'qa872001@gmail.com', 'status': 'approved', 'sex': '1', 'nationality': None, 'religion': None, 'level': '3', 'school': '', 'ethnicity': None, 'relative': [], 'degree': None, 'skill': {'mainSkill': [], 'softSkill': [], 'certificates': []}, 'username': 'qa872001@gmail.com', 'positions': '15', 'isAdmin': None, 'locationId': 1, 'fillDataToken': None, 'userFilledData': False, 'bankAccount': '', 'departmentName': None, 'projectPrimaryName': None, 'roleName': 'HR C&B', 'positionName': 'Project Manager', 'sexValue': 'Male', 'onBoardStatusValue': 'Onboard', 'religionValue': None, 'degreeValue': None, 'contractTypeValue': None, 'ethnicityValue': None, 'levelValue': 'Level 3', 'maritalStatusValue': None, 'prefixId': None, 'personalEmail': 'qa872001@gmail.com', 'onBoardStatus': '1', 'startDate': '2025-06-12T11:10:03.430Z', 'endDate': None, 'dateOfBirth': '2001-07-07T17:00:00.000Z', 'firstName': 'Quang Anh', 'lastName': 'Phan', 'originalPlace': '', 'permanentAddress': '', 'citizenId': '', 'cidIssuedDate': '1970-01-01T00:00:00.000Z', 'cidPlaceOfIssue': '', 'placeOfBirth': '', 'temporaryAddress': '', 'maritalStatus': None, 'schoolMajor': '', 'contractType': None, 'bankName': '', 'bankBranch': '', 'bankAccountNumber': '', 'phoneNumber': '', 'socialInsuranceNumber': '', 'createdAt': '2025-06-12T11:11:14.701Z', 'updatedAt': '2025-06-20T09:23:57.311Z', 'trainingPeriodFrom': '1970-01-01T00:00:00.000Z', 'trainingPeriodTo': '1970-01-01T00:00:00.000Z', 'contractStartDate': None, 'contractExpirationDate': None, 'taxCode': '', 'fullName': 'Phan Quang Anh', 'managerId': None, 'employeeId': '31745', 'fullNameWestern': 'Quang Anh Phan', 'fullNameNoAccentWestern': 'quang anh phan', 'timeZone': 'Asia/Ho_Chi_Minh', 'projectPrimary': None, 'officialDate': None, 'employeeStatus': 'PROBATION', 'allowSigninUsername': None, 'endWorkingDate': None, 'durationContract': None}, {'id': '326a9169-403c-4e7e-b38b-364fabdf58a8', 'email': 'vinhnp@innotech-vn.com', 'status': 'approved', 'sex': '2', 'nationality': None, 'religion': None, 'level': '3', 'school': '', 'ethnicity': None, 'relative': [], 'degree': None, 'skill': {'mainSkill': [], 'softSkill': [], 'certificates': []}, 'username': 'vinhnp@innotech-vn.com', 'positions': '6', 'isAdmin': None, 'locationId': 1, 'fillDataToken': None, 'userFilledData': False, 'bankAccount': '', 'departmentName': None, 'projectPrimaryName': None, 'roleName': None, 'positionName': 'IT support', 'sexValue': 'Female', 'onBoardStatusValue': 'Onboard', 'religionValue': None, 'degreeValue': None, 'contractTypeValue': None, 'ethnicityValue': None, 'levelValue': 'Level 3', 'maritalStatusValue': None, 'prefixId': None, 'personalEmail': 'vinhnp@innotech-vn.com', 'onBoardStatus': '1', 'startDate': '2025-06-05T10:32:42.844Z', 'endDate': None, 'dateOfBirth': '1979-12-31T17:00:00.000Z', 'firstName': 'Phúc Vinh', 'lastName': 'Nguyễn', 'originalPlace': '', 'permanentAddress': '', 'citizenId': '', 'cidIssuedDate': None, 'cidPlaceOfIssue': '', 'placeOfBirth': '', 'temporaryAddress': '', 'maritalStatus': None, 'schoolMajor': '', 'contractType': None, 'bankName': '', 'bankBranch': '', 'bankAccountNumber': '', 'phoneNumber': '', 'socialInsuranceNumber': '', 'createdAt': '2025-06-04T10:33:12.396Z', 'updatedAt': '2025-06-04T10:33:37.184Z', 'trainingPeriodFrom': None, 'trainingPeriodTo': None, 'contractStartDate': None, 'contractExpirationDate': None, 'taxCode': '', 'fullName': 'Nguyễn Phúc Vinh', 'managerId': '31718', 'employeeId': '31737', 'fullNameWestern': 'Phúc Vinh Nguyễn', 'fullNameNoAccentWestern': 'phuc vinh nguyen', 'timeZone': 'Asia/Ho_Chi_Minh', 'projectPrimary': None, 'officialDate': None, 'employeeStatus': 'PROBATION', 'allowSigninUsername': None, 'endWorkingDate': None, 'durationContract': None, 'managerName': 'Lâm Kha Tuấn'}, {'id': '09f1e65d-dd72-40d3-8a0b-d394d7260432', 'email': 'mantt@innotech-vn.com', 'status': 'approved', 'sex': '2', 'nationality': None, 'religion': None, 'level': '3', 'school': '', 'ethnicity': None, 'relative': [], 'degree': None, 'skill': {'mainSkill': [], 'softSkill': [], 'certificates': []}, 'username': 'mantt@innotech-vn.com', 'positions': '27', 'isAdmin': None, 'locationId': 1, 'fillDataToken': None, 'userFilledData': False, 'bankAccount': '', 'departmentName': None, 'projectPrimaryName': None, 'roleName': None, 'positionName': 'Chief Accountant', 'sexValue': 'Female', 'onBoardStatusValue': 'Onboard', 'religionValue': None, 'degreeValue': None, 'contractTypeValue': None, 'ethnicityValue': None, 'levelValue': 'Level 3', 'maritalStatusValue': None, 'prefixId': None, 'personalEmail': 'mantt@innotech-vn.com', 'onBoardStatus': '1', 'startDate': '2025-06-04T11:18:01.646Z', 'endDate': None, 'dateOfBirth': '1979-12-31T17:00:00.000Z', 'firstName': 'Mẫn', 'lastName': 'Tô Thế', 'originalPlace': 'Thành phố Hồ Chí Minh', 'permanentAddress': '33 Ba Vì', 'citizenId': '', 'cidIssuedDate': '1970-01-01T00:00:00.000Z', 'cidPlaceOfIssue': '', 'placeOfBirth': '', 'temporaryAddress': '', 'maritalStatus': None, 'schoolMajor': '', 'contractType': None, 'bankName': '', 'bankBranch': '', 'bankAccountNumber': '', 'phoneNumber': '', 'socialInsuranceNumber': '', 'createdAt': '2025-06-03T11:18:24.764Z', 'updatedAt': '2025-06-04T08:30:07.227Z', 'trainingPeriodFrom': '1970-01-01T00:00:00.000Z', 'trainingPeriodTo': '1970-01-01T00:00:00.000Z', 'contractStartDate': None, 'contractExpirationDate': None, 'taxCode': '', 'fullName': 'Tô Thế Mẫn', 'managerId': '31718', 'employeeId': '31728', 'fullNameWestern': 'Mẫn Tô Thế', 'fullNameNoAccentWestern': 'man to the', 'timeZone': 'Asia/Ho_Chi_Minh', 'projectPrimary': None, 'officialDate': None, 'employeeStatus': 'PROBATION', 'allowSigninUsername': None, 'endWorkingDate': None, 'durationContract': None, 'managerName': 'Lâm Kha Tuấn'}, {'id': 'f08a6207-6640-4052-b130-ee2b803a5746', 'email': 'thu+maia@innotech-vn.com', 'status': 'approved', 'sex': '2', 'nationality': None, 'religion': None, 'level': '3', 'school': '', 'ethnicity': None, 'relative': [], 'degree': None, 'skill': {'mainSkill': [], 'softSkill': [], 'certificates': []}, 'username': 'thu+maia@innotech-vn.com', 'positions': '48', 'isAdmin': None, 'locationId': 3, 'fillDataToken': None, 'userFilledData': False, 'bankAccount': '', 'departmentName': None, 'projectPrimaryName': 'UOB', 'roleName': 'Line Manager', 'positionName': 'Account manager', 'sexValue': 'Female', 'onBoardStatusValue': 'Onboard', 'religionValue': None, 'degreeValue': None, 'contractTypeValue': None, 'ethnicityValue': None, 'levelValue': 'Level 3', 'maritalStatusValue': None, 'prefixId': None, 'personalEmail': 'maia@gmail.com', 'onBoardStatus': '1', 'startDate': '2025-05-14T03:34:56.773Z', 'endDate': None, 'dateOfBirth': '2002-05-13T17:00:00.000Z', 'firstName': 'Maia', 'lastName': 'Pleiades', 'originalPlace': '', 'permanentAddress': '', 'citizenId': '', 'cidIssuedDate': None, 'cidPlaceOfIssue': '', 'placeOfBirth': '', 'temporaryAddress': '', 'maritalStatus': None, 'schoolMajor': '', 'contractType': None, 'bankName': '', 'bankBranch': '', 'bankAccountNumber': '', 'phoneNumber': '', 'socialInsuranceNumber': '', 'createdAt': '2025-05-14T03:35:39.964Z', 'updatedAt': '2025-05-30T04:09:41.146Z', 'trainingPeriodFrom': None, 'trainingPeriodTo': None, 'contractStartDate': None, 'contractExpirationDate': None, 'taxCode': '', 'fullName': 'Pleiades Maia', 'managerId': '31711', 'employeeId': '31727', 'fullNameWestern': 'Maia Pleiades', 'fullNameNoAccentWestern': 'maia pleiades', 'timeZone': 'Asia/Ho_Chi_Minh', 'projectPrimary': 'UOB', 'officialDate': '2025-05-21T03:34:58.654Z', 'employeeStatus': 'PROBATION', 'allowSigninUsername': None, 'endWorkingDate': None, 'durationContract': None, 'managerName': 'HR Iam'}], 'total': 10, 'totalSearch': 264, 'totalResult': 264, 'limit': 10, 'offset': 1}, 'statusCode': 200}\n"
     ]
    }
   ],
   "source": [
    "import requests\n",
    "from dotenv import load_dotenv\n",
    "load_dotenv()\n",
    "import os\n",
    "url = \"https://api-uat.kingwork.vn/api/employee/search-employee\"\n",
    "\n",
    "headers = {\n",
    "    \"accept\": \"application/json, text/plain, */*\",\n",
    "    \"accept-language\": \"vi-VN\",\n",
    "    \"authorization\": os.getenv(\"authorization4\"),\n",
    "    \"authorizationms\": \"\",\n",
    "    \"content-type\": \"application/json\",\n",
    "    \"lang\": \"en\",\n",
    "    \"priority\": \"u=1, i\",\n",
    "    \"sec-ch-ua\": \"\\\"Google Chrome\\\";v=\\\"137\\\", \\\"Chromium\\\";v=\\\"137\\\", \\\"Not/A)Brand\\\";v=\\\"24\\\"\",\n",
    "    \"sec-ch-ua-mobile\": \"?0\",\n",
    "    \"sec-ch-ua-platform\": \"\\\"Windows\\\"\",\n",
    "    \"sec-fetch-dest\": \"empty\",\n",
    "    \"sec-fetch-mode\": \"cors\",\n",
    "    \"sec-fetch-site\": \"same-site\",\n",
    "    \"x-tenant-id\": \"uat\"\n",
    "}\n",
    "\n",
    "payload = {\n",
    "    \"sort\": [{\"employeeId\": \"DESC\"}],\n",
    "    \"search\": {\"name\": \"\"},\n",
    "    \"filter\": {\n",
    "        \"projectPrimaryName\": [],\n",
    "        \"positionName\": [],\n",
    "        \"status\": [\"approved\"]\n",
    "    },\n",
    "    \"limit\": 10,\n",
    "    \"offset\": 1,\n",
    "    \"fromDate\": \"2025-05-26\",\n",
    "    \"toDate\": \"2025-06-25\",\n",
    "    \"viewType\": \"all\",\n",
    "    \"isAdmin\": True\n",
    "}\n",
    "\n",
    "response = requests.post(url, headers=headers, json=payload)\n",
    "\n",
    "print(response.status_code)\n",
    "print(response.json())\n"
   ]
  },
  {
   "cell_type": "code",
   "execution_count": null,
   "id": "45527e6e",
   "metadata": {},
   "outputs": [],
   "source": []
  },
  {
   "cell_type": "markdown",
   "id": "d7f26f84",
   "metadata": {},
   "source": [
    "# List employees"
   ]
  },
  {
   "cell_type": "code",
   "execution_count": 62,
   "id": "5737d3ae",
   "metadata": {},
   "outputs": [
    {
     "name": "stdout",
     "output_type": "stream",
     "text": [
      "{'id': '4ebf5c1a-2c9c-4f0f-83ec-33c727921f38', 'firstName': 'Anh', 'lastName': 'Phuong'}\n",
      "{'id': 'ebedcdd4-70d6-4357-a294-1422f8173208', 'firstName': 'Nguyen', 'lastName': 'Ba Dai'}\n",
      "{'id': 'a91c1255-eed5-4ef3-a6be-e652b823ace6', 'firstName': 'Nguyen Huu', 'lastName': 'Tri'}\n",
      "{'id': '616d90b0-7539-4ac2-8f92-40f47e59bd46', 'firstName': 'On Thy', 'lastName': 'Nhat An'}\n",
      "{'id': 'a29e72d4-f60d-433a-b9f5-1f0693bdf8d0', 'firstName': 'Huy Bao', 'lastName': 'An'}\n",
      "{'id': '5bf13354-fe47-490f-9e5d-9b037371fe75', 'firstName': 'Nguyen An', 'lastName': 'Do'}\n",
      "{'id': '5e44ffaa-ad70-4282-98fc-ec9768490ab2', 'firstName': 'Quang Anh', 'lastName': 'Phan'}\n",
      "{'id': '326a9169-403c-4e7e-b38b-364fabdf58a8', 'firstName': 'Phúc Vinh', 'lastName': 'Nguyễn'}\n",
      "{'id': '09f1e65d-dd72-40d3-8a0b-d394d7260432', 'firstName': 'Mẫn', 'lastName': 'Tô Thế'}\n",
      "{'id': 'f08a6207-6640-4052-b130-ee2b803a5746', 'firstName': 'Maia', 'lastName': 'Pleiades'}\n",
      "{'id': 'd547f464-34cb-4942-8572-9c486f2a9e57', 'firstName': 'An', 'lastName': 'Ah'}\n",
      "{'id': '58fc5489-bfc6-4b65-a7c7-6c6c44e6132e', 'firstName': 'Nhân', 'lastName': 'Lê Trọng'}\n",
      "{'id': '47946f1c-32e3-4d37-84eb-a7e8cf3e5646', 'firstName': 'Việt', 'lastName': 'Phan'}\n",
      "{'id': 'c0304a0d-2f05-4e45-a481-0a8cafc49fda', 'firstName': 'Giselle', 'lastName': 'Aeri'}\n",
      "{'id': 'f7159b75-6dcd-4949-b6be-6964d4db689c', 'firstName': 'Winter', 'lastName': 'Kim'}\n",
      "{'id': 'cfff3248-5746-4421-9231-d5107a918ba7', 'firstName': 'Karina', 'lastName': 'Yu'}\n",
      "{'id': '8ec55a49-7e54-4bd7-9a10-2170414ffa2d', 'firstName': 'Lourdes', 'lastName': 'Mary'}\n",
      "{'id': '752df568-049f-4c38-b8f5-251baf85bd78', 'firstName': 'Tuấn', 'lastName': 'Lâm Kha'}\n",
      "{'id': '2fcb6482-be4f-477a-8d91-d2bbccbdeb7e', 'firstName': 'test', 'lastName': 'test'}\n",
      "{'id': 'af1090e4-fcec-4e62-a783-21fb213727c9', 'firstName': 'a', 'lastName': 'b'}\n",
      "{'id': '5421b9f3-92c4-4aaa-9938-58fa30cf71ee', 'firstName': 'Thị Ngọc Trang', 'lastName': 'Huỳnh'}\n",
      "{'id': 'd112e557-3f3e-41a6-9de0-b03bddb730b4', 'firstName': 'Quyền Hữu', 'lastName': 'Nguyễn'}\n",
      "{'id': 'bc75a099-4c6b-4291-9a15-3121285d0968', 'firstName': 'Test', 'lastName': '01'}\n",
      "{'id': '4d7cd387-5819-4c8e-ab3f-43838c1f7a09', 'firstName': 'Iam', 'lastName': 'HR'}\n",
      "{'id': 'bef38e73-f732-4ee7-99b5-25a739ad1025', 'firstName': 'Shinya', 'lastName': 'Kouji'}\n",
      "{'id': '5a9b5f55-65ff-47da-9082-d2b551bd7e25', 'firstName': 'Eunji', 'lastName': 'Jung'}\n",
      "{'id': 'daa940a2-604f-4a0d-bf53-409c296af612', 'firstName': 'Oh', 'lastName': 'Yeah'}\n",
      "{'id': '1bb9bc54-dbac-43d0-b698-8ec317a56ffd', 'firstName': 'Haoyu', 'lastName': 'Yu'}\n",
      "{'id': '22b26c9e-fe3b-40e3-bdcf-20b373bb0545', 'firstName': 'User 4', 'lastName': 'Test'}\n",
      "{'id': '3d26321f-26ec-4034-b876-ca3131e54295', 'firstName': 'User 3', 'lastName': 'Test'}\n",
      "{'id': '4578797d-63ac-4b91-8a0d-b4fbc92be30e', 'firstName': 'User 2', 'lastName': 'Test'}\n",
      "{'id': '692ece8b-594f-49ea-adc3-e6acb02b8176', 'firstName': 'User 1', 'lastName': 'Test'}\n",
      "{'id': 'afb7581f-e784-4033-8c0f-7eea2a3d0fc1', 'firstName': 'Yong', 'lastName': 'Jun'}\n",
      "{'id': '5c4ec050-e04b-422e-9053-e5c009e18d15', 'firstName': 'Clay', 'lastName': 'Alysia'}\n",
      "{'id': 'c04562a2-a500-4c26-a69e-f56a915995cd', 'firstName': 'Nguyen Minh Thu', 'lastName': 'Vo'}\n",
      "{'id': 'b9eb7ab9-4b4f-4a01-960d-9d09f715ec62', 'firstName': 'Gia Hòa', 'lastName': 'Nguyễn'}\n",
      "{'id': '35cd1a17-77b3-46bc-8c52-8a505f75bc6c', 'firstName': 'Hoàng', 'lastName': 'Lê Minh'}\n",
      "{'id': '3bc981ce-f498-4550-964f-4b9fe9a969d9', 'firstName': 'Diễm Ngọc', 'lastName': 'Phan Nguyễn'}\n",
      "{'id': '87c261eb-9323-4884-a3fa-fa82897458c9', 'firstName': 'Vương', 'lastName': 'Phạm Văn'}\n",
      "{'id': '2718d4fd-ecdb-40c8-8a00-0c03c1228562', 'firstName': 'Huy', 'lastName': 'Lê Hoàng'}\n",
      "{'id': '5e4694f0-43b6-458e-884c-6ac5910fcadf', 'firstName': 'Thanh Tuyền', 'lastName': 'Trần Thị'}\n",
      "{'id': '1fba9933-d210-4ae4-a8c9-e65c01d6e969', 'firstName': 'Thùy Trang', 'lastName': 'Lê Thị'}\n",
      "{'id': '2cfbbbe0-a75f-41f0-a8d2-cc5d4acd2dd9', 'firstName': 'Thanh Thúy', 'lastName': 'Nguyễn Thị'}\n",
      "{'id': '078cf860-d874-448f-8d0d-ad8dec70695b', 'firstName': 'Minh Hạnh', 'lastName': 'Tôn Nữ'}\n",
      "{'id': '7c4b17ae-6dce-4678-b5cd-36510d7263b9', 'firstName': 'Ngọc Huế', 'lastName': 'Nguyễn Thị'}\n",
      "{'id': 'd8e8a2d7-0a38-4866-aed2-b518b6d61ab9', 'firstName': 'Thị Thúy Biên', 'lastName': 'Phạm'}\n",
      "{'id': '9e3cf4b4-4a92-4898-93b5-1f53bf674f81', 'firstName': 'Hoang', 'lastName': 'Pham'}\n",
      "{'id': 'a6a3542d-da66-4e65-abd3-0bdc2334438a', 'firstName': 'dang', 'lastName': 'hai hai'}\n",
      "{'id': 'd032b9f3-63e9-407d-a70b-0c2de084c248', 'firstName': 'Trần', 'lastName': 'Trọng Nghĩa'}\n",
      "{'id': '861725be-a6e1-479c-ab49-4d5d5e338c83', 'firstName': 'Nguyễn', 'lastName': 'Khải Hoàn'}\n",
      "{'id': 'ea8ec84b-4eb2-48fa-ad7e-3ce2d5e9027d', 'firstName': 'Gia Hòa', 'lastName': 'Nguyễn'}\n",
      "{'id': '376e7fb6-e4e6-4da9-8c93-58399cb93e5c', 'firstName': 'Duy', 'lastName': 'Hà'}\n",
      "{'id': '649e15c1-e607-4503-a036-03ae3d6eec92', 'firstName': 'Triết', 'lastName': 'Nguyễn Minh'}\n",
      "{'id': '2d8faed2-90e2-4370-af54-6e480563350b', 'firstName': 'anh', 'lastName': 'B'}\n",
      "{'id': 'a58483ff-0ce3-4c22-b265-42c4856dc508', 'firstName': 'anh', 'lastName': 'H'}\n",
      "{'id': '661f0ece-d68b-4e30-aa14-352156059dab', 'firstName': 'tram', 'lastName': 'pham'}\n",
      "{'id': '809528e5-62b0-4f52-8748-a10ae54fd4ad', 'firstName': 'pham', 'lastName': 'tham'}\n",
      "{'id': '1ebc03a5-f676-476e-88d7-7353a368ace5', 'firstName': 'Tram', 'lastName': 'Pham'}\n",
      "{'id': '4f73d9e4-269e-4c15-aab2-209d2aabda4c', 'firstName': 'Pham', 'lastName': 'Tran'}\n",
      "{'id': '9cff0827-dcd6-43a9-9c09-9f25eb9d2534', 'firstName': 'Nguyen', 'lastName': 'Tran'}\n",
      "{'id': 'd66a3d97-c0c0-4ad1-b744-e91340112808', 'firstName': 'Pham', 'lastName': 'Tran'}\n",
      "{'id': '39a9beb4-f232-4687-90a1-6d44091cb21d', 'firstName': 'Hai', 'lastName': 'dang'}\n",
      "{'id': '3c30e4c2-eae4-4959-ae52-d9ebb0fc8da2', 'firstName': 'Hai', 'lastName': 'Dang'}\n",
      "{'id': 'cbbabb28-07a9-43ff-ae79-f5113452f63a', 'firstName': 'dang', 'lastName': 'Hai'}\n",
      "{'id': 'c7669a73-a909-417d-a584-1478c074bac9', 'firstName': 'Nguyen', 'lastName': 'A'}\n",
      "{'id': '3b2aa42b-b6db-466e-8456-032324b83a00', 'firstName': 'Hai', 'lastName': 'Dang'}\n",
      "{'id': 'd432d585-45fb-4b43-ad48-a7a8f023a8c4', 'firstName': 'Nguyennnnnnnnnnnn', 'lastName': 'Hoa'}\n",
      "{'id': '0ed78914-4126-45ee-bf19-9ec2f8671c83', 'firstName': 'Lâm', 'lastName': 'Lê Bảo'}\n",
      "{'id': '7136c412-c0bb-45bc-a18d-e27f534ec384', 'firstName': 'Trung', 'lastName': 'Nguyễn Bảo'}\n",
      "{'id': '317b8bcb-7037-48cf-8492-3b819117ba2b', 'firstName': 'Hải', 'lastName': 'Trần Thanh'}\n",
      "{'id': 'b90dc7f3-720b-465a-ab73-bf3317d502b1', 'firstName': 'Linh', 'lastName': 'Trần Thị Thùy'}\n",
      "{'id': '1be1b2a5-2d93-4b7d-9fb2-6652a37574b0', 'firstName': 'Phương', 'lastName': 'Trần Hà'}\n",
      "{'id': '9d1c1b59-af78-4d71-ab0c-8f7612f98a5c', 'firstName': 'Quân', 'lastName': 'Lê Bảo'}\n",
      "{'id': '97b828b7-a921-4c4c-baa0-9ac410665c38', 'firstName': 'Long', 'lastName': 'Nguyễn Bảo'}\n",
      "{'id': '4853e2b8-adf2-48fb-a339-8292199ee9d4', 'firstName': 'Trân', 'lastName': 'Trần Thị Thùy'}\n",
      "{'id': 'f7328495-68d0-4d62-b514-d2bd1b0672ac', 'firstName': 'Trang', 'lastName': 'Trần Thị Thùy'}\n",
      "{'id': 'cd430286-929b-43cc-8104-f7bbcae238ae', 'firstName': 'Anh', 'lastName': 'Nguyễn Tuấn'}\n",
      "{'id': 'b7ce7be0-8893-4e2c-80a0-e9193f4e66fc', 'firstName': 'Anh', 'lastName': 'Phan'}\n",
      "{'id': '24027a8a-5b46-4a96-9e12-25ff9010590e', 'firstName': 'Anh Minh', 'lastName': 'Nguyễn '}\n",
      "{'id': '3ec4a6d7-573a-4e12-8121-4a7de47bebc9', 'firstName': 'Hoàng Yến', 'lastName': 'Võ Thị'}\n",
      "{'id': 'a60e22c5-c2a2-4fc8-927a-6437cb1461b0', 'firstName': 'Minh Quang', 'lastName': 'Trần Văn'}\n",
      "{'id': 'c137efe6-5b26-42e6-ba47-3ea54a874490', 'firstName': 'Huy Đức', 'lastName': 'Phan'}\n",
      "{'id': '82ac4721-a243-43e7-ba56-cea53d14a8f4', 'firstName': 'Quang Khải', 'lastName': 'Đặng'}\n",
      "{'id': 'cdb97fda-7cee-4c5e-ba2b-385af0019053', 'firstName': 'Minh Khôi', 'lastName': 'Trần Phan'}\n",
      "{'id': '0d9ce0f4-a397-478b-90ff-de713ad3a707', 'firstName': 'Lan Chi', 'lastName': 'Trần Hương'}\n",
      "{'id': '804d77ee-4ff9-4297-8bc5-6df5abd50589', 'firstName': 'Nhật Dương', 'lastName': 'Lê'}\n",
      "{'id': 'b5591d2f-1a1d-4f2d-a553-a5831bf54a91', 'firstName': 'Dũng', 'lastName': 'Vũ Văn'}\n",
      "{'id': 'fdf1215f-bbfb-4bfa-bef6-1f6118e50462', 'firstName': 'Bảo Châu', 'lastName': 'Hồ Ngọc'}\n",
      "{'id': '7b6ccaa9-db4a-42f5-9e1c-70c9abdc6fbe', 'firstName': 'Diễm Thư', 'lastName': 'Đinh'}\n",
      "{'id': 'e91382f8-11cf-4519-bfe6-ba72a09013a8', 'firstName': 'Hạnh Dung', 'lastName': 'Lâm Thị'}\n",
      "{'id': 'e3edc763-b61c-4afc-93ab-2f2d975dc974', 'firstName': 'Hoàng Yến', 'lastName': 'Võ'}\n",
      "{'id': '80e47b67-ef05-4ff8-a102-50d71ce17abb', 'firstName': 'Hoài An', 'lastName': 'Đào'}\n",
      "{'id': '6c3322f1-1472-4695-ab44-9745924142bb', 'firstName': 'Đăng Bách', 'lastName': 'Phạm Trần'}\n",
      "{'id': '59071ca9-629c-43e3-a2e8-6d71b90e0ef5', 'firstName': 'Phú Nghĩa', 'lastName': 'Cao'}\n",
      "{'id': '27a4a548-dab2-47c7-a58d-5f2243e9c8e4', 'firstName': 'Đình Nguyên', 'lastName': 'Nguyễn'}\n",
      "{'id': '5d210950-7fb9-42a6-ac9d-2f8f501912f4', 'firstName': 'Quỳnh Chi', 'lastName': 'Hồ Mai'}\n",
      "{'id': 'c24c20e6-666d-4373-8d0d-1eb6d89ee469', 'firstName': 'Lâm Phong', 'lastName': 'Nguyễn'}\n",
      "{'id': '3871abd2-775f-406d-ad37-7a75e92ad79d', 'firstName': 'Chí Kiên', 'lastName': 'Phạm Đình'}\n",
      "{'id': 'cc4c150d-83ad-4758-8ad7-f3056446c6d4', 'firstName': 'Tú Anh', 'lastName': 'Trương Trần'}\n",
      "{'id': 'e7685e44-1f51-4795-a836-0b893d5dfde7', 'firstName': 'Quang Mạnh', 'lastName': 'Nguyễn'}\n",
      "{'id': '7cdd6301-48b2-4871-8548-cc95fde4d787', 'firstName': 'Trung Đức', 'lastName': 'Lê Trần'}\n",
      "{'id': 'a4fd8623-4b40-40df-b67b-cf1c4b93c152', 'firstName': 'Thanh Thủy', 'lastName': 'Diệp'}\n",
      "{'id': 'b195a4ae-48b3-476e-bbfa-140c87ef7f26', 'firstName': 'Grufre', 'lastName': 'Bruzique'}\n",
      "{'id': '51d73ef4-2aa1-4bae-8209-16e4e4e5ee43', 'firstName': 'Noutre', 'lastName': 'Zejipo'}\n",
      "{'id': 'eba16030-1d69-4c33-b21e-4fc35314a2c6', 'firstName': 'Mani', 'lastName': 'Vonurau'}\n",
      "{'id': '33e6bb52-870a-4578-8aba-13654c07faee', 'firstName': 'Reullet', 'lastName': 'Peppi'}\n",
      "{'id': '8c57fce7-063e-4141-96c3-8b43045aed24', 'firstName': 'Yến', 'lastName': 'Do'}\n",
      "{'id': '9b438ed0-61ab-445e-a03e-773e9b0f82bb', 'firstName': 'Fratooq', 'lastName': 'Neu'}\n",
      "{'id': 'cd32d7ff-8c85-4b50-8ec3-48f2a242b03b', 'firstName': 'Pabrey', 'lastName': 'Bailoe'}\n",
      "{'id': '384afcfe-3062-45d3-82a7-04c96fe662ce', 'firstName': 'Huy', 'lastName': 'Nguyen'}\n",
      "{'id': '61629a33-89c1-4916-b4ed-4e477979fb8b', 'firstName': 'HOTTAB', 'lastName': 'A'}\n",
      "{'id': '76908a68-4457-4498-b7f3-c9c15e3e1543', 'firstName': 'HOT', 'lastName': 'TAB'}\n",
      "{'id': '86e07f02-d6cc-4dc0-adba-c36121cf8b11', 'firstName': 'Tran', 'lastName': 'Nguyen'}\n",
      "{'id': '836541b7-533d-4668-814f-cad573468adc', 'firstName': 'Huy', 'lastName': 'Nguyen'}\n",
      "{'id': '6e2f66bd-d2cb-4cca-acc2-7ea4a45d406a', 'firstName': 'Quem', 'lastName': 'Telano'}\n",
      "{'id': 'e58d927f-1ab6-4cfb-936a-97e64088cec5', 'firstName': 'Quijokeq', 'lastName': 'Bru'}\n",
      "{'id': '7afa9fbb-7935-40e5-9098-27250817d711', 'firstName': 'Quijokeq', 'lastName': 'Bru'}\n",
      "{'id': '367f4f66-d235-448e-9e71-ada63e04a3a8', 'firstName': 'Việt Dũng', 'lastName': 'Đặng'}\n",
      "{'id': '844c2d12-1475-4b1c-a20b-186cbc1b7208', 'firstName': 'Dang', 'lastName': 'Do'}\n",
      "{'id': '16a5ed59-1d94-4944-be8e-dc42945e2670', 'firstName': 'Nguyen', 'lastName': 'Quoc Huy'}\n",
      "{'id': '7feb5d15-ec8c-4057-a61b-a429fe9247a6', 'firstName': 'Thanh Phat', 'lastName': 'Le'}\n",
      "{'id': 'e5b02f5c-b90f-484e-8b87-05a27b00af7f', 'firstName': 'Thành', 'lastName': 'Phát'}\n",
      "{'id': '3d859dcc-e3b5-452d-bc94-6805266cc342', 'firstName': 'Minh', 'lastName': 'Chau'}\n",
      "{'id': '483456a3-276e-4d36-bea5-5392e821ea6c', 'firstName': 'Văn', 'lastName': 'A'}\n",
      "{'id': '37c760e4-2724-44e7-931c-d26cbbb1467a', 'firstName': 'Sivir', 'lastName': 'Nami'}\n",
      "{'id': 'e25fb718-c59a-4c0d-a717-8714d3c90b9a', 'firstName': 'Camila', 'lastName': 'Martin'}\n",
      "{'id': 'e10f1a50-51f5-4781-9908-a17e9ce65e21', 'firstName': 'Mila', 'lastName': 'Walker'}\n",
      "{'id': 'd0eb05e4-9b8c-4af4-b25e-548f74574a8c', 'firstName': 'Reullet', 'lastName': 'Peppi'}\n",
      "{'id': '1081e472-dd25-4871-af0a-80c886698781', 'firstName': 'Hoòa', 'lastName': 'Nguyễn'}\n",
      "{'id': 'c1f9bc6f-d630-4da8-9b5b-ca058aa9f736', 'firstName': 'Doffei', 'lastName': 'Vitron'}\n",
      "{'id': '32d28a6b-8cc1-45c7-995a-6e3bbbe07302', 'firstName': 'Jelly', 'lastName': 'Nguyen'}\n",
      "{'id': 'de6ca26a-22b2-41ca-9699-7e978cf52320', 'firstName': 'Le Vo', 'lastName': 'Huu Thai'}\n",
      "{'id': 'd352e9ad-5148-4cfe-a9f7-918ec801fe5f', 'firstName': 'Noutre', 'lastName': 'Zejipo'}\n",
      "{'id': '51159dda-fba9-4142-bd91-d5b09325cdb6', 'firstName': 'dung', 'lastName': ' pppppp b'}\n",
      "{'id': 'd0971a2c-90cf-4030-8bab-382553c40e31', 'firstName': 'Judale', 'lastName': 'Vufu'}\n",
      "{'id': '94879765-30ac-4ca2-bdc9-85ea9d8317eb', 'firstName': 'Aurora', 'lastName': 'Rivera'}\n",
      "{'id': '5a62ddf4-0df9-4159-93d8-b649ac9ea4cb', 'firstName': 'Thanh Tuyền', 'lastName': 'Phạm'}\n",
      "{'id': '700086ab-67c4-4343-86fd-a1a444dd936b', 'firstName': 'abc', 'lastName': 'xyz'}\n",
      "{'id': '82dca743-bcf2-4250-af0a-8f9c7ab4b1c9', 'firstName': 'Fref', 'lastName': 'Ledo'}\n",
      "{'id': '2797ed09-6793-4179-8cd3-64ade1dbd9f8', 'firstName': 'Yejom', 'lastName': 'Seuto'}\n",
      "{'id': 'cce47d68-f72b-4c68-b040-3b18374e1984', 'firstName': 'Sem', 'lastName': 'Mauffi'}\n",
      "{'id': 'ef4d4391-9593-48b4-ab64-7a31fec9e87b', 'firstName': 'Seuhou', 'lastName': 'Geu'}\n",
      "{'id': '6dc93433-277e-4f6d-a6f3-48fc26c3cf6d', 'firstName': 'Nitrou', 'lastName': 'Mein'}\n",
      "{'id': '22006035-d7fe-48fb-af88-c83e830e084f', 'firstName': 'Boup', 'lastName': 'Pozopoi'}\n",
      "{'id': '9955f47f-6d2b-44ae-a05d-7a638a92567e', 'firstName': 'Freip', 'lastName': 'Trouffifa'}\n",
      "{'id': 'd39c4e2e-9631-459f-9794-4c72e1b748c8', 'firstName': 'Puma', 'lastName': 'Xauwa'}\n",
      "{'id': '4acd7930-a968-4e5e-87f8-f0a9a0599c41', 'firstName': 'Braxo', 'lastName': 'Peizu'}\n",
      "{'id': 'ccf5389f-43b2-4d24-8ae4-99cbf94b4ddf', 'firstName': 'LeiPrike', 'lastName': 'Zontre'}\n",
      "{'id': '8a12fe8f-89ca-47b7-96a8-e83cf247b5eb', 'firstName': 'Quau', 'lastName': 'Kissatti'}\n",
      "{'id': '55ed74eb-4ea4-4f63-a913-9a2b248dd7fe', 'firstName': 'Dehoi', 'lastName': 'Cimmufri'}\n",
      "{'id': '19c0f265-2ec4-4882-9565-78b6f87a6d8b', 'firstName': 'Zaup', 'lastName': 'Reuylitu'}\n",
      "{'id': 'eb511150-57e1-4dd6-942b-c826ed9387ed', 'firstName': 'Nagru', 'lastName': 'Mutreu'}\n",
      "{'id': 'ba3f7aa0-d82c-4d24-a8e9-f2dbf8be3650', 'firstName': 'Kaneu', 'lastName': 'Faregroi'}\n",
      "{'id': 'b70c0451-bc2e-48c1-8d07-ab9e8f19d3b5', 'firstName': 'Tugi', 'lastName': 'we'}\n",
      "{'id': '04c27971-4c04-4cff-82c5-a6579ed119b7', 'firstName': 'Croileu', 'lastName': 'Gecu'}\n",
      "{'id': '308b57d8-0beb-4919-bd1b-209309a0e0c0', 'firstName': 'Gapu', 'lastName': 'Taussa'}\n",
      "{'id': '491ed18a-7e43-4e40-802e-d1c85939779f', 'firstName': 'Mupo', 'lastName': 'Heunu'}\n",
      "{'id': 'cf880951-cc6b-423f-8e62-bca050bb938b', 'firstName': 'Gacrane', 'lastName': 'Neu'}\n",
      "{'id': '2619a7d9-9d6d-405c-ad11-0a884ba9d141', 'firstName': 'Sannei', 'lastName': 'Bronemu'}\n",
      "{'id': 'ca07f481-374b-45b0-8786-59894d69cfad', 'firstName': 'Sifrou', 'lastName': 'suteigrou'}\n",
      "{'id': '2f4fc508-db55-4412-8592-70a26f7979ea', 'firstName': 'Dellau', 'lastName': 'Fagrou'}\n",
      "{'id': '3a458946-ea7e-4904-bd24-8844b69de152', 'firstName': 'Teilu', 'lastName': 'Laxehe'}\n",
      "{'id': '2fb3f084-a43e-4e7d-aa74-49fb9e620935', 'firstName': 'Sajougre', 'lastName': 'Soutre'}\n",
      "{'id': '7e045e64-c22f-4b94-8e94-8d215a7e7c44', 'firstName': 'Froun', 'lastName': 'Guvonne'}\n",
      "{'id': 'ea8bc566-3350-4c40-9957-57f9a52b369a', 'firstName': 'Vouxịu', 'lastName': 'Fraunu'}\n",
      "{'id': 'c656dcea-6dfc-46b4-92c6-9281013cce83', 'firstName': 'Dafafau', 'lastName': 'Dicrou'}\n",
      "{'id': 'f78ae1e5-b2dc-4d43-ad1b-c6115f6ef4b1', 'firstName': 'Vaudou', 'lastName': 'Quettei'}\n",
      "{'id': '05fcbc1c-ec37-459d-9da3-d801a17abfc4', 'firstName': 'Seuxu', 'lastName': 'Fralile'}\n",
      "{'id': '9a9b9768-c65f-47b2-b18f-1a8a9e1676d9', 'firstName': 'Vezoin', 'lastName': 'Neucreu'}\n",
      "{'id': '530349a5-82bb-46e7-b3da-af72a7119275', 'firstName': 'Keu', 'lastName': 'Sacei'}\n",
      "{'id': 'f1be8987-7394-4d7d-ad25-39395a291c1c', 'firstName': 'Graup', 'lastName': 'Citou'}\n",
      "{'id': 'b033b7fa-518f-49cd-905c-3fde2a6c6c9d', 'firstName': 'Sahan', 'lastName': 'Crifi'}\n",
      "{'id': 'aa91a857-afb5-4a6a-9bea-e5f43e475ff1', 'firstName': 'Yejom', 'lastName': 'Seuto'}\n",
      "{'id': '42a64e10-c652-4e19-88b0-3981b6c897a4', 'firstName': 'Quijokeq', 'lastName': 'Bru'}\n",
      "{'id': 'b0ec1bba-6dc3-4593-9d12-1ce38b18b9d2', 'firstName': 'Noutre', 'lastName': 'Zejipo'}\n",
      "{'id': '65fef146-e0ca-48f0-ac58-90f516936433', 'firstName': 'Reullet', 'lastName': 'Peppi'}\n",
      "{'id': 'dcac1f58-4557-4564-8b4e-ea45ecffeef2', 'firstName': 'Quem', 'lastName': 'Telano'}\n",
      "{'id': '4e59071d-52a9-40c5-a4a7-ae13f4c7ed7b', 'firstName': 'Yejom', 'lastName': 'Seuto'}\n",
      "{'id': '83842072-b45a-4dc8-8e64-523b09ef097d', 'firstName': 'Quijokeq', 'lastName': 'Bru'}\n",
      "{'id': '32a9da33-aa78-4b68-9ee7-9b3fa5e8df0f', 'firstName': 'Noutre', 'lastName': 'Zejipo'}\n",
      "{'id': '71e50c00-9f5c-471d-88c5-6c13f06d4f4e', 'firstName': 'Mani', 'lastName': 'Vonurau'}\n",
      "{'id': 'd8da0ed8-2aa3-4498-91e1-cbfc0d5b167b', 'firstName': 'Reullet', 'lastName': 'Peppi'}\n",
      "{'id': '3b8cba17-1ac7-4fc3-b817-86d4db1ff3c0', 'firstName': 'Quem', 'lastName': 'Telano'}\n",
      "{'id': 'ae4f092d-42e1-4ca2-b31d-199bb084a0e5', 'firstName': 'Yejom', 'lastName': 'Seuto'}\n",
      "{'id': '52980da3-167d-47cd-b7d7-4e8eea3d03a5', 'firstName': 'Quijokeq', 'lastName': 'Bru'}\n",
      "{'id': 'd6df4b97-4dc6-4ab0-ac6c-123210c2b04d', 'firstName': 'Noutre', 'lastName': 'Zejipo'}\n",
      "{'id': '4be35ab4-d8dd-4c50-b479-ecc353d24156', 'firstName': 'Mani', 'lastName': 'Vonurau'}\n",
      "{'id': '2d727a9b-fe59-4125-b5dd-0ab0925b14eb', 'firstName': 'An', 'lastName': 'Hòa'}\n",
      "{'id': '56b14acc-503d-4378-8255-7306a64d8a30', 'firstName': 'Quem', 'lastName': 'Telano'}\n",
      "{'id': '3ba02c47-a16f-4ad7-ba82-6fc73b8ee6e1', 'firstName': 'Fref', 'lastName': 'Ledo'}\n",
      "{'id': 'ed059c40-3cec-4cff-8623-9588a2358d6e', 'firstName': 'Judale', 'lastName': 'Vufu'}\n",
      "{'id': '2459d85d-d926-489c-8670-5dd0a89cac31', 'firstName': 'Yejom', 'lastName': 'Seuto'}\n",
      "{'id': '9c249f74-c7e5-47f3-a8f1-8d81b673124d', 'firstName': 'Quijokeq', 'lastName': 'Bru'}\n",
      "{'id': '797597c6-6fa4-441b-b351-56aefd561042', 'firstName': 'Jole', 'lastName': 'Qualuaxa'}\n",
      "{'id': 'f3719bd5-e64e-4bae-821f-3c54dd81f9dd', 'firstName': 'Datei', 'lastName': 'Jeripau'}\n",
      "{'id': 'b850b7f4-fbbe-4beb-9896-aa9e07004845', 'firstName': 'Pepreu', 'lastName': 'Reitre'}\n",
      "{'id': '90148235-a36b-4dca-863b-95c8ce321fba', 'firstName': 'Reullet', 'lastName': 'Peppi'}\n",
      "{'id': 'fd8f8415-fbc3-4524-88a9-ddb3f76c727f', 'firstName': 'Quem', 'lastName': 'Telano'}\n",
      "{'id': '527546e6-5fac-4559-97f9-cb427521c63f', 'firstName': 'Wind', 'lastName': 'andCloud'}\n",
      "{'id': 'becec132-5e5e-4c02-a43b-028bf2db619d', 'firstName': 'Na', 'lastName': 'Na'}\n",
      "{'id': 'ac0d0fde-2114-4433-ba98-1e2eb2052b08', 'firstName': 'Judale', 'lastName': 'Vufu'}\n",
      "{'id': '5b553c7f-20bc-49c0-b03b-c4ee8dc33fe3', 'firstName': 'Yejom', 'lastName': 'Seuto'}\n",
      "{'id': '4ac478ff-27b8-4cba-a75f-2cab925d5b70', 'firstName': 'Natalia', 'lastName': 'Clark'}\n",
      "{'id': '419f134a-754a-4693-96d1-576e9a732049', 'firstName': 'Noutre', 'lastName': 'Zejipo'}\n",
      "{'id': '4295fb73-8ad6-47c4-aec7-44f26c9676c7', 'firstName': 'Mani', 'lastName': 'Vonurau'}\n",
      "{'id': 'e4a03399-b368-4d76-9116-ac8936f50cab', 'firstName': 'Reullet', 'lastName': 'Peppi'}\n",
      "{'id': '91c593e8-363b-4536-ae91-b747819d9595', 'firstName': 'Quem', 'lastName': 'Telano'}\n",
      "{'id': 'be43f0aa-c9c4-4fef-a45a-b6ce5ecf551a', 'firstName': 'Nogu', 'lastName': 'Wei'}\n",
      "{'id': '3992d358-1407-4f89-ba58-caa9bacd2a1d', 'firstName': 'Froyo', 'lastName': 'Kauxu'}\n",
      "{'id': '729786bc-c84d-45bd-a182-b03ccaf41233', 'firstName': 'Treu', 'lastName': 'Finnau'}\n",
      "{'id': 'f9fed9a1-3750-4e4e-9bff-1cabb0d390d7', 'firstName': 'Putan', 'lastName': 'Noteu'}\n",
      "{'id': 'caca33e0-5dcd-4f52-a626-bab126c6ddf6', 'firstName': 'Fraza', 'lastName': 'Troffe'}\n",
      "{'id': 'e3df7ab0-3970-4c90-8c1d-7160889a6982', 'firstName': 'Frawe', 'lastName': 'Bro'}\n",
      "{'id': 'c02c6e8a-ba63-489d-89d0-cb5ebde67fef', 'firstName': 'Kou', 'lastName': 'Croik'}\n",
      "{'id': 'a31b2d3d-f0ae-43a2-8dd8-360bd5577a72', 'firstName': 'Hoto', 'lastName': 'Wauyo'}\n",
      "{'id': 'c2643b30-9617-4feb-bc64-3e56001d7461', 'firstName': 'Zonma', 'lastName': 'Lamufa'}\n",
      "{'id': '3d6feeef-c88e-4267-8ee7-67b8106e3f21', 'firstName': 'Grin¥rin', 'lastName': 'Seti'}\n",
      "{'id': '3e216712-b525-4035-9cf2-72b125d28a3c', 'firstName': 'Grex', 'lastName': 'Buro'}\n",
      "{'id': 'b7962040-1d05-46f7-acdc-036d994ca052', 'firstName': 'Phương Oanh', 'lastName': 'Đặng Thị'}\n",
      "{'id': '2adfb5c0-f343-4356-88a7-8b2896db45fb', 'firstName': 'Nguyên Nhã', 'lastName': 'Lê Bùi '}\n",
      "{'id': '86d633f2-70ea-4854-98dc-8f28b8c6106e', 'firstName': 'Phúc Hưng', 'lastName': 'Bùi Văn'}\n",
      "{'id': '73d82485-0780-4c65-8429-cdfec6aeb903', 'firstName': 'Chiêu An', 'lastName': 'Huỳnh Ngọc'}\n",
      "{'id': 'f5592e95-7522-4ec3-87d6-6eb36aa16a1d', 'firstName': 'Thành Đạt', 'lastName': 'Trần'}\n",
      "{'id': 'a3308786-d03b-45e9-9f85-28a62cc70e59', 'firstName': 'Hằng Lê', 'lastName': 'Hằng Lê'}\n",
      "{'id': 'dd0ea894-ba3c-40c3-aafe-87d39c55ecfa', 'firstName': 'Chí Kiên', 'lastName': 'Lê Trần'}\n",
      "{'id': '8a61381e-a638-4fa2-abba-cee55430af35', 'firstName': 'HRM cloud', 'lastName': 'System Dev'}\n",
      "{'id': '7000e16e-1434-4480-b97f-b55e68699268', 'firstName': 'Thanh Vy', 'lastName': 'Dặng Vũ'}\n",
      "{'id': '4bafbce9-800b-4d83-94de-e5a8644227a9', 'firstName': 'Hằng', 'lastName': 'Lê Minh'}\n",
      "{'id': '2d5c40f5-d3f0-4534-a350-eb11191e5ddd', 'firstName': 'Thiên Ân', 'lastName': 'Đỗ Đức'}\n",
      "{'id': '888c7eae-6a43-4e13-9da2-25f7d6c05ee1', 'firstName': 'Nhật Nguyên', 'lastName': 'Nguyễn'}\n",
      "{'id': 'ed522dad-4c7b-439e-9e2e-8c8043f2f0db', 'firstName': 'Nhật Hạ', 'lastName': 'Lê'}\n",
      "{'id': 'a6427db7-b7e4-4dbf-a78e-8e86a7ae895e', 'firstName': 'Huyền Trâm', 'lastName': 'Trần'}\n",
      "{'id': '5d949f04-793d-4c44-beb6-16fdbc95beef', 'firstName': 'Dương', 'lastName': 'Lê Huy'}\n",
      "{'id': '9fe22c1f-988f-4656-876e-f94b7b03761e', 'firstName': 'Nhật Anh', 'lastName': 'Phạm Quốc'}\n",
      "{'id': '66855c2f-aacc-46cb-86df-914314b63f16', 'firstName': 'Minh Trâm', 'lastName': 'Nguyễn'}\n",
      "{'id': '606397cf-6a34-4951-b228-d139cf44fd59', 'firstName': 'Trà', 'lastName': 'Đặng'}\n",
      "{'id': 'c4cba368-3860-4a70-a250-ee3b8b66e037', 'firstName': 'Benefits', 'lastName': 'Compensation and'}\n",
      "{'id': '2682782e-bc49-4000-a335-08352b9bb068', 'firstName': 'Resources Lead', 'lastName': 'Human'}\n",
      "{'id': 'b091683c-9bc1-4201-9ddc-2fad1739699e', 'firstName': 'Hiển Đạt', 'lastName': 'Đinh'}\n",
      "{'id': '2c5e69de-3ec4-4d87-bf14-96a17ddfcb41', 'firstName': 'Phương Hoa', 'lastName': 'Nguyễn Đặng'}\n",
      "{'id': 'e3494314-f689-4eaf-bfd4-f38c927e7636', 'firstName': 'Ánh Linh', 'lastName': 'Nguyễn Dương'}\n",
      "{'id': '29a3ef39-5901-443b-8c60-96d966d22339', 'firstName': 'Gia Bảo', 'lastName': 'Ngô'}\n",
      "{'id': 'dec2e7b1-3d64-4a50-978a-b38c43c72e0d', 'firstName': 'Ngọc Nghi', 'lastName': 'Nguyễn Bùi'}\n",
      "{'id': '8ef2262c-1de8-4568-8798-929364ed3de0', 'firstName': 'Hữu Phước', 'lastName': 'Võ'}\n",
      "{'id': '43466ea3-359b-49de-bad2-490d1f5f1ead', 'firstName': 'Hằng', 'lastName': 'Lê'}\n",
      "{'id': '68af8dbc-ef4c-4eff-9e22-d06abcc90298', 'firstName': 'Dũng Việt', 'lastName': 'Dương Minh'}\n",
      "{'id': 'b731a37c-8334-47ef-9d90-2c53fb61fec5', 'firstName': 'Ái Chi', 'lastName': 'Trần Nguyễn'}\n",
      "{'id': 'e2152d02-1640-41da-942a-c8f6bd7d7895', 'firstName': 'Hoàng Oanh', 'lastName': 'Nguyễn Ngọc'}\n",
      "{'id': '2f27c8b2-80db-46b1-b2cd-7c4cc2bc94e0', 'firstName': 'Minh Tài', 'lastName': 'Lương'}\n",
      "{'id': '7d74c360-5e2f-4b5b-82db-2eb2217e18e9', 'firstName': 'Kim Chi', 'lastName': 'Nguyễn Đỗ'}\n",
      "{'id': 'de844b3b-658b-43c6-b626-7835cd4f9137', 'firstName': 'Phúc An', 'lastName': 'Trương'}\n",
      "{'id': '2b05b1f4-3db8-4e4d-9fd2-d653110843e7', 'firstName': 'Thảo Nguyên', 'lastName': 'Phạm'}\n",
      "{'id': 'cead53b0-4737-4474-b2c5-0787c856aad3', 'firstName': 'Gia Nguyên', 'lastName': 'Phan Trường'}\n",
      "{'id': '80f9a987-476a-47fe-a5a2-4e56545ee18a', 'firstName': 'Mạnh Quân', 'lastName': 'Hoàng'}\n",
      "{'id': 'e1243f1e-10db-4b6d-8361-1acbeccac552', 'firstName': 'Phương Quỳnh', 'lastName': 'Trần Lê'}\n",
      "{'id': '4862f91c-0bb2-4c69-bbe1-d58682d02fd4', 'firstName': 'Thái Sơn', 'lastName': 'Vũ'}\n",
      "{'id': '3b81a351-ba1f-4e2f-a71f-737aadfb28f0', 'firstName': 'Trọng Nghĩa', 'lastName': 'Huỳnh'}\n",
      "{'id': '3852fb5e-5733-40da-9292-1905f999510a', 'firstName': 'Thục Quyên', 'lastName': 'Đinh '}\n",
      "{'id': '243f1134-94d0-4105-a6bf-8026c7b6c681', 'firstName': 'Duy An', 'lastName': 'Đặng'}\n",
      "{'id': 'ad091e20-eacb-444a-b9cc-aaf148f5090e', 'firstName': 'Kiều My', 'lastName': 'Nguyễn Lê'}\n",
      "{'id': '980e42c4-cda3-4e78-b805-f6bfffd29849', 'firstName': 'Tuấn Tú', 'lastName': 'Bùi '}\n",
      "{'id': 'c2ec4c02-84cb-411a-bb08-304ba52d7a01', 'firstName': 'Thiên Duyên', 'lastName': 'Lê'}\n",
      "{'id': '2430a6f6-bbb4-4511-a58a-9a57cfdb79a0', 'firstName': 'Hưng Thịnh', 'lastName': 'Trần'}\n",
      "{'id': '8f916da3-502f-4b4d-814e-ca1348a790fc', 'firstName': 'Huy', 'lastName': 'Nguyễn Quang'}\n"
     ]
    }
   ],
   "source": [
    "import requests\n",
    "import os\n",
    "from dotenv import load_dotenv\n",
    "\n",
    "def fetch_employee_list():\n",
    "    load_dotenv()  # Load biến môi trường từ file .env\n",
    "\n",
    "    url = \"https://api-uat.kingwork.vn/api/employee/search-employee\"\n",
    "    headers = {\n",
    "        \"accept\": \"application/json, text/plain, */*\",\n",
    "        \"accept-language\": \"vi-VN\",\n",
    "        \"authorization\": os.getenv(\"authorization2\"),\n",
    "        \"authorizationms\": \"\",\n",
    "        \"content-type\": \"application/json\",\n",
    "        \"lang\": \"en\",\n",
    "        \"priority\": \"u=1, i\",\n",
    "        \"sec-ch-ua\": \"\\\"Google Chrome\\\";v=\\\"137\\\", \\\"Chromium\\\";v=\\\"137\\\", \\\"Not/A)Brand\\\";v=\\\"24\\\"\",\n",
    "        \"sec-ch-ua-mobile\": \"?0\",\n",
    "        \"sec-ch-ua-platform\": \"\\\"Windows\\\"\",\n",
    "        \"sec-fetch-dest\": \"empty\",\n",
    "        \"sec-fetch-mode\": \"cors\",\n",
    "        \"sec-fetch-site\": \"same-site\",\n",
    "        \"x-tenant-id\": \"uat\"\n",
    "    }\n",
    "\n",
    "    payload = {\n",
    "        \"sort\": [{\"employeeId\": \"DESC\"}],\n",
    "        \"search\": {\"name\": \"\"},\n",
    "        \"filter\": {\n",
    "            \"projectPrimaryName\": [],\n",
    "            \"positionName\": [],\n",
    "            \"status\": [\"approved\"]\n",
    "        },\n",
    "        \"fromDate\": \"2025-05-26\",\n",
    "        \"toDate\": \"2025-06-25\",\n",
    "        \"viewType\": \"all\",\n",
    "        \"isAdmin\": True\n",
    "    }\n",
    "\n",
    "    response = requests.post(url, headers=headers, json=payload)\n",
    "\n",
    "\n",
    "    # Parse and extract result\n",
    "    data = response.json().get(\"data\", {})\n",
    "    result_list = data.get(\"result\", [])\n",
    "\n",
    "    return [\n",
    "        {\n",
    "            \"id\": emp.get(\"id\"),\n",
    "            \"firstName\": emp.get(\"firstName\"),\n",
    "            \"lastName\": emp.get(\"lastName\")\n",
    "        }\n",
    "        for emp in result_list\n",
    "    ]\n",
    "\n",
    "# Ví dụ sử dụng\n",
    "if __name__ == \"__main__\":\n",
    "    employees = fetch_employee_list()\n",
    "    for emp in employees:\n",
    "        print(emp)\n"
   ]
  },
  {
   "cell_type": "code",
   "execution_count": 30,
   "id": "1e4b5991",
   "metadata": {},
   "outputs": [
    {
     "name": "stdout",
     "output_type": "stream",
     "text": [
      "✅ Dữ liệu lấy được:\n",
      "{'message': 'Success', 'data': [{'id': 5, 'name': '2025', 'status': True, 'startTime': '2025-05-31T17:00:00.000Z', 'endTime': '2025-12-31T16:59:59.999Z', 'leaveTypes': []}, {'id': 3, 'name': '2026', 'status': True, 'startTime': '2024-04-30T17:00:00.000Z', 'endTime': '2026-12-31T16:59:59.999Z', 'leaveTypes': [{'id': 11, 'name': 'Phép đi trễ & về sớm', 'code': 'FL', 'description': '', 'isSalary': True, 'groupId': 3, 'status': True, 'color': '#8764b8', 'createdAt': '2025-02-25T08:05:39.888Z', 'updatedAt': '2025-02-25T09:29:15.551Z', 'numberOfLeave': None, 'maxNumberTimesOff': 6, 'maxNumberHoursOff': 2, 'maxNumberHoursOffPerMonth': 9, 'endNoLaterThan': '16:00', 'startLaterThan': '07:00', 'numberLeaveType': 'by_time_month', 'addOn': False, 'addOnDay': None, 'addOnDayType': None, 'addOnDayPicker': '2025-03-01T08:05:35.514Z', 'contractApply': None, 'contractUse': None, 'addTime': 'repeat', 'numberOfLeaveOnce': None}, {'id': 10, 'name': 'Compensatory Leave', 'code': 'CL', 'description': None, 'isSalary': True, 'groupId': 3, 'status': True, 'color': '#fcf001', 'createdAt': '2025-02-03T10:24:36.877Z', 'updatedAt': '2022-12-28T06:45:02.000Z', 'numberOfLeave': None, 'maxNumberTimesOff': None, 'maxNumberHoursOff': None, 'maxNumberHoursOffPerMonth': None, 'endNoLaterThan': None, 'startLaterThan': None, 'numberLeaveType': None, 'addOn': False, 'addOnDay': None, 'addOnDayType': None, 'addOnDayPicker': None, 'contractApply': None, 'contractUse': None, 'addTime': 'once', 'numberOfLeaveOnce': 1}, {'id': 9, 'name': 'Unpaid Leave', 'code': 'UL', 'description': '', 'isSalary': False, 'groupId': 3, 'status': True, 'color': '#e64855', 'createdAt': '2025-01-20T04:11:33.775Z', 'updatedAt': '2022-12-28T06:45:02.000Z', 'numberOfLeave': None, 'maxNumberTimesOff': None, 'maxNumberHoursOff': None, 'maxNumberHoursOffPerMonth': None, 'endNoLaterThan': None, 'startLaterThan': None, 'numberLeaveType': None, 'addOn': None, 'addOnDay': None, 'addOnDayType': None, 'addOnDayPicker': None, 'contractApply': None, 'contractUse': None, 'addTime': 'once', 'numberOfLeaveOnce': 30}, {'id': 8, 'name': 'Annual Leave', 'code': 'AL', 'description': '', 'isSalary': True, 'groupId': 3, 'status': True, 'color': '#48d041', 'createdAt': '2025-01-08T09:43:51.120Z', 'updatedAt': '2022-12-28T06:45:02.000Z', 'numberOfLeave': 3, 'maxNumberTimesOff': None, 'maxNumberHoursOff': None, 'maxNumberHoursOffPerMonth': None, 'endNoLaterThan': None, 'startLaterThan': None, 'numberLeaveType': 'by_month', 'addOn': True, 'addOnDay': 9, 'addOnDayType': 3, 'addOnDayPicker': None, 'contractApply': None, 'contractUse': None, 'addTime': 'repeat', 'numberOfLeaveOnce': None}]}], 'statusCode': 200}\n"
     ]
    }
   ],
   "source": [
    "\n",
    "\n",
    "url = \"https://api-uat.kingwork.vn/api/configurations/get-active-config-leave-off\"\n",
    "headers = {\n",
    "    \"accept\": \"application/json\",\n",
    "    \"x-tenant-id\": \"uat\",\n",
    "    \"Authorization\":  os.getenv(\"authorization2\") # Rút gọn ở đây\n",
    "}\n",
    "\n",
    "response = requests.get(url, headers=headers)\n",
    "\n",
    "# In kết quả dạng JSON\n",
    "if response.status_code == 200:\n",
    "    data = response.json()\n",
    "    print(\"✅ Dữ liệu lấy được:\")\n",
    "    print(data)\n",
    "else:\n",
    "    print(f\"❌ Lỗi: {response.status_code}\")\n",
    "    print(response.text)\n"
   ]
  },
  {
   "cell_type": "markdown",
   "id": "993cb211",
   "metadata": {},
   "source": [
    "# leave-type-off-employee-detail"
   ]
  },
  {
   "cell_type": "code",
   "execution_count": 3,
   "metadata": {},
   "outputs": [],
   "source": [
    "def get_leave_detail_by_user(userId: str, year: str) -> dict:\n",
    "    url = f\"https://api-uat.kingwork.vn/api/timesheet/leave-type-off-employee-detail/{userId}\"\n",
    "    headers = {\n",
    "        \"accept\": \"*/*\",\n",
    "        \"x-tenant-id\": \"uat\",\n",
    "        \"Authorization\": os.getenv(\"authorization\")  # Rút gọn ở đây\n",
    "    }\n",
    "    params = {\n",
    "        \"year\": year\n",
    "    }\n",
    "\n",
    "    try:\n",
    "        response = requests.get(url, headers=headers, params=params)\n",
    "        response.raise_for_status()\n",
    "        return {\"status\": \"success\", \"data\": response.json()}\n",
    "    except requests.RequestException as e:\n",
    "        return {\"status\": \"error\", \"message\": str(e)}"
   ]
  },
  {
   "cell_type": "code",
   "execution_count": 4,
   "id": "67f68d73",
   "metadata": {},
   "outputs": [
    {
     "data": {
      "text/plain": [
       "{'status': 'success',\n",
       " 'data': {'message': 'Get successful',\n",
       "  'data': [{'color': '#fcf001',\n",
       "    'configTypeId': 10,\n",
       "    'end_time': '2026-12-31T16:59:59.999Z',\n",
       "    'start_time': '2024-04-30T17:00:00.000Z',\n",
       "    'id': 228,\n",
       "    'isSalary': True,\n",
       "    'name': 'Compensatory Leave',\n",
       "    'total_leave_off': 1,\n",
       "    'total_used': 1},\n",
       "   {'color': '#48d041',\n",
       "    'configTypeId': 8,\n",
       "    'end_time': '2026-12-31T16:59:59.999Z',\n",
       "    'start_time': '2024-04-30T17:00:00.000Z',\n",
       "    'id': 227,\n",
       "    'isSalary': True,\n",
       "    'name': 'Annual Leave',\n",
       "    'total_leave_off': 30,\n",
       "    'total_used': 0},\n",
       "   {'color': '#e64855',\n",
       "    'configTypeId': 9,\n",
       "    'end_time': '2026-12-31T16:59:59.999Z',\n",
       "    'start_time': '2024-04-30T17:00:00.000Z',\n",
       "    'id': 226,\n",
       "    'isSalary': False,\n",
       "    'name': 'Unpaid Leave',\n",
       "    'total_leave_off': 30,\n",
       "    'total_used': 0}],\n",
       "  'statusCode': 200}}"
      ]
     },
     "execution_count": 4,
     "metadata": {},
     "output_type": "execute_result"
    }
   ],
   "source": [
    "get_leave_detail_by_user(\n",
    "    userId=\"7feb5d15-ec8c-4057-a61b-a429fe9247a6\",\n",
    "    year=\"2024\"\n",
    ")"
   ]
  },
  {
   "cell_type": "markdown",
   "id": "cd80866b",
   "metadata": {},
   "source": [
    "# get_employee_timesheet_month "
   ]
  },
  {
   "cell_type": "code",
   "execution_count": null,
   "id": "28268035",
   "metadata": {},
   "outputs": [],
   "source": [
    "import requests\n",
    "import os\n",
    "\n",
    "# Nếu bạn lưu token vào biến môi trường, sử dụng:\n",
    "# os.environ[\"authorization\"] = \"Bearer <your_token>\"\n",
    "\n",
    "url = \"https://api-uat.kingwork.vn/api/timesheet/working-month/employee-timesheet-month\"\n",
    "params = {\n",
    "    \"monthYear\": \"2025-04\",\n",
    "    \"currentDay\": \"0\",\n",
    "    \"userId\": \"1081e472-dd25-4871-af0a-80c886698781\"\n",
    "}\n",
    "\n",
    "headers = {\n",
    "    \"accept\": \"application/json\",\n",
    "    \"x-tenant-id\": \"uat\",\n",
    "    \"Authorization\": os.getenv(\"authorization2\")  # Hoặc gán trực tiếp token ở đây\n",
    "}\n",
    "\n",
    "response = requests.get(url, params=params, headers=headers)\n",
    "\n",
    "# Kiểm tra kết quả\n",
    "if response.status_code == 200:\n",
    "    data = response.json()\n",
    "    print(\"✅ Dữ liệu trả về:\")\n",
    "    print(data)\n",
    "else:\n",
    "    print(f\"❌ Lỗi: {response.status_code}\")\n",
    "    print(response.text)\n"
   ]
  },
  {
   "cell_type": "code",
   "execution_count": null,
   "id": "aba307ad",
   "metadata": {},
   "outputs": [],
   "source": [
    "data"
   ]
  },
  {
   "cell_type": "markdown",
   "id": "5749e894",
   "metadata": {},
   "source": [
    "# list-mamager-leave-off-employee"
   ]
  },
  {
   "cell_type": "code",
   "execution_count": null,
   "id": "3988d677",
   "metadata": {},
   "outputs": [],
   "source": [
    "import requests\n",
    "import os\n",
    "\n",
    "url = \"https://api-uat.kingwork.vn/api/timesheet/list-mamager-leave-off-employee\"\n",
    "params = {\n",
    "    \"leaveTypeId\": 8,\n",
    "    \"configTypeId\": 3,\n",
    "    \"status\": \"true\",\n",
    "    \"fromDate\": \"2025-06-01\",\n",
    "    \"toDate\": \"2025-06-30\"\n",
    "}\n",
    "\n",
    "headers = {\n",
    "    \"accept\": \"*/*\",\n",
    "    \"x-tenant-id\": \"uat\",\n",
    "    \"authorization\": os.getenv(\"authorization2\")  # hoặc gán trực tiếp chuỗi Bearer ở đây\n",
    "}\n",
    "\n",
    "response = requests.get(url, params=params, headers=headers)\n",
    "\n",
    "# Kiểm tra kết quả\n",
    "if response.status_code == 200:\n",
    "    data = response.json()\n",
    "    print(\"✅ Dữ liệu trả về:\")\n",
    "    print(data)\n",
    "else:\n",
    "    print(f\"❌ Lỗi: {response.status_code}\")\n",
    "    print(response.text)\n"
   ]
  },
  {
   "cell_type": "code",
   "execution_count": null,
   "id": "c166421e",
   "metadata": {},
   "outputs": [],
   "source": [
    "data"
   ]
  },
  {
   "cell_type": "code",
   "execution_count": 39,
   "id": "06bc3911",
   "metadata": {},
   "outputs": [
    {
     "data": {
      "text/plain": [
       "{'userId': '4be35ab4-d8dd-4c50-b479-ecc353d24156',\n",
       " 'employeeCode': '00109',\n",
       " 'firstName': 'Mani',\n",
       " 'lastName': 'Vonurau',\n",
       " 'fullName': 'Vonurau Mani',\n",
       " 'email': 'foixeuttoissoffe-6654@yopmail.com',\n",
       " 'projectPrimaryName': None,\n",
       " 'availableDays': 21,\n",
       " 'usedDays': 0,\n",
       " 'postionName': [],\n",
       " 'departmentNames': []}"
      ]
     },
     "execution_count": 39,
     "metadata": {},
     "output_type": "execute_result"
    }
   ],
   "source": [
    "data[\"data\"][0]\n"
   ]
  },
  {
   "cell_type": "code",
   "execution_count": 67,
   "id": "fe349936",
   "metadata": {},
   "outputs": [
    {
     "name": "stdout",
     "output_type": "stream",
     "text": [
      "✅ Dữ liệu trả về:\n",
      "{'message': 'Create successful', 'data': {'id': 9, 'name': 'Contract Type', 'type': 'contract_type', 'category': True, 'value': [{'id': 1635487637979, 'name': 'Indefinite term contract', 'value1': '30'}, {'id': 1635487626108, 'name': 'Definite term contract', 'value1': '30'}, {'id': 5, 'name': 'Probationary contract', 'value1': '15'}, {'id': 1, 'name': 'Service contract', 'value1': '7'}], 'total_value': 1}, 'statusCode': 200}\n"
     ]
    }
   ],
   "source": [
    "import requests\n",
    "\n",
    "url = \"https://api-uat.kingwork.vn/api/configurations/config-type/contract_type\"\n",
    "\n",
    "headers = {\n",
    "    \"accept\": \"application/json, text/plain, */*\",\n",
    "    \"accept-language\": \"vi-VN\",\n",
    "    \"authorization\": os.getenv(\"authorization2\"),  # <-- thay bằng token thật\n",
    "    \"lang\": \"en\",\n",
    "    \"priority\": \"u=1, i\",\n",
    "    \"sec-ch-ua\": '\"Google Chrome\";v=\"137\", \"Chromium\";v=\"137\", \"Not/A)Brand\";v=\"24\"',\n",
    "    \"sec-ch-ua-mobile\": \"?0\",\n",
    "    \"sec-ch-ua-platform\": '\"Windows\"',\n",
    "    \"sec-fetch-dest\": \"empty\",\n",
    "    \"sec-fetch-mode\": \"cors\",\n",
    "    \"sec-fetch-site\": \"same-site\",\n",
    "    \"x-tenant-id\": \"uat\",\n",
    "    \"referer\": \"https://uat.kingwork.vn/\"\n",
    "}\n",
    "\n",
    "response = requests.get(url, headers=headers)\n",
    "\n",
    "# In kết quả\n",
    "if response.ok:\n",
    "    print(\"✅ Dữ liệu trả về:\")\n",
    "    print(response.json())\n",
    "else:\n",
    "    print(f\"❌ Lỗi {response.status_code}: {response.text}\")\n"
   ]
  },
  {
   "cell_type": "markdown",
   "id": "5c1533ff",
   "metadata": {},
   "source": [
    "# Project"
   ]
  },
  {
   "cell_type": "code",
   "execution_count": null,
   "id": "04529cc7",
   "metadata": {},
   "outputs": [],
   "source": [
    "import requests\n",
    "\n",
    "url = \"https://api-uat.kingwork.vn/api/project\"\n",
    "\n",
    "headers = {\n",
    "    \"accept\": \"application/json, text/plain, */*\",\n",
    "    \"accept-language\": \"vi-VN\",\n",
    "    \"authorization\": os.getenv(\"authorization4\"),  # <-- thay bằng token thật\n",
    "    \"lang\": \"en\",\n",
    "    \"priority\": \"u=1, i\",\n",
    "    \"sec-ch-ua\": '\"Google Chrome\";v=\"137\", \"Chromium\";v=\"137\", \"Not/A)Brand\";v=\"24\"',\n",
    "    \"sec-ch-ua-mobile\": \"?0\",\n",
    "    \"sec-ch-ua-platform\": '\"Windows\"',\n",
    "    \"sec-fetch-dest\": \"empty\",\n",
    "    \"sec-fetch-mode\": \"cors\",\n",
    "    \"sec-fetch-site\": \"same-site\",\n",
    "    \"x-tenant-id\": \"uat\",\n",
    "    \"referer\": \"https://uat.kingwork.vn/\"\n",
    "}\n",
    "\n",
    "response = requests.get(url, headers=headers)\n",
    "\n",
    "# In kết quả\n",
    "if response.ok:\n",
    "    print(\"✅ Dữ liệu trả về:\")\n",
    "    print(response.json())\n",
    "else:\n",
    "    print(f\"❌ Lỗi {response.status_code}: {response.text}\")\n",
    "    \n",
    "    \n",
    "data= response.json()\n",
    "# len(data[\"data\"][\"result\"])\n",
    "\n",
    "\n"
   ]
  },
  {
   "cell_type": "code",
   "execution_count": 139,
   "id": "1f39bab9",
   "metadata": {},
   "outputs": [
    {
     "data": {
      "text/plain": [
       "{'deleteFlag': False,\n",
       " 'createdAt': '2025-04-22T08:06:14.030Z',\n",
       " 'createdBy': '201b6737-b68a-4be2-abf4-1753679099c9',\n",
       " 'updatedBy': '201b6737-b68a-4be2-abf4-1753679099c9',\n",
       " 'updatedAt': '2025-05-30T04:11:14.346Z',\n",
       " 'version': 3,\n",
       " 'projectCode': 'UOB',\n",
       " 'name': 'UOB',\n",
       " 'description': '',\n",
       " 'startDate': '2025-04-01T07:00:00.000Z',\n",
       " 'endDate': '2026-04-30T07:00:00.000Z',\n",
       " 'status': 'active',\n",
       " 'color': None}"
      ]
     },
     "execution_count": 139,
     "metadata": {},
     "output_type": "execute_result"
    }
   ],
   "source": [
    "data[\"data\"][\"result\"][0]"
   ]
  },
  {
   "cell_type": "code",
   "execution_count": 124,
   "id": "7df3c59f",
   "metadata": {},
   "outputs": [
    {
     "name": "stdout",
     "output_type": "stream",
     "text": [
      "UOB\n",
      "XX\n",
      "TEST-02\n",
      "TEST\n",
      "Greensun\n",
      "HRM\n",
      "KW\n",
      "Test_UAT_02\n",
      "Test_UAT\n",
      "BOD\n",
      "ssssssss\n",
      "Test KIW-8854\n",
      "UAT test KIW-855\n",
      "Test KIW-8854d\n",
      "KIW_885_UAT\n",
      "Test KIW-885\n",
      "Sanouva\n",
      "KW2\n",
      "BR\n",
      "Human Resources Department\n",
      "asdasdasd\n",
      "asdasdasd\n",
      "MKT\n",
      "Accountant\n",
      "BA\n",
      "Test\n",
      "Software Development Department\n",
      "Sales Department\n"
     ]
    }
   ],
   "source": [
    "for i in data[\"data\"][\"result\"]:\n",
    "    print(i[\"name\"])"
   ]
  },
  {
   "cell_type": "code",
   "execution_count": 112,
   "id": "fe8d1a0f",
   "metadata": {},
   "outputs": [
    {
     "data": {
      "text/plain": [
       "28"
      ]
     },
     "execution_count": 112,
     "metadata": {},
     "output_type": "execute_result"
    }
   ],
   "source": [
    "# data[\"data\"]\n",
    "data[\"data\"][\"total\"]"
   ]
  },
  {
   "cell_type": "code",
   "execution_count": 113,
   "id": "74ab91ea",
   "metadata": {},
   "outputs": [
    {
     "data": {
      "text/plain": [
       "28"
      ]
     },
     "execution_count": 113,
     "metadata": {},
     "output_type": "execute_result"
    }
   ],
   "source": [
    "data.get(\"data\", {}).get(\"total\", 0)"
   ]
  },
  {
   "cell_type": "code",
   "execution_count": null,
   "id": "52cebebe",
   "metadata": {},
   "outputs": [],
   "source": [
    "data"
   ]
  },
  {
   "cell_type": "markdown",
   "id": "b632ed7e",
   "metadata": {},
   "source": [
    "# History"
   ]
  },
  {
   "cell_type": "code",
   "execution_count": 114,
   "id": "ed6e6eaa",
   "metadata": {},
   "outputs": [],
   "source": [
    "authorization=os.getenv(\"authorization4\")"
   ]
  },
  {
   "cell_type": "code",
   "execution_count": null,
   "id": "df5533d0",
   "metadata": {},
   "outputs": [],
   "source": [
    "import requests\n",
    "\n",
    "url = \"https://api-uat.kingwork.vn/api/project-detail/history\"\n",
    "\n",
    "headers = {\n",
    "    \"accept\": \"application/json, text/plain, */*\",\n",
    "    \"accept-language\": \"vi-VN\",\n",
    "    \"authorization\": authorization,  # <-- thay bằng token thật\n",
    "    \"lang\": \"en\",\n",
    "    \"priority\": \"u=1, i\",\n",
    "    \"sec-ch-ua\": '\"Google Chrome\";v=\"137\", \"Chromium\";v=\"137\", \"Not/A)Brand\";v=\"24\"',\n",
    "    \"sec-ch-ua-mobile\": \"?0\",\n",
    "    \"sec-ch-ua-platform\": '\"Windows\"',\n",
    "    \"sec-fetch-dest\": \"empty\",\n",
    "    \"sec-fetch-mode\": \"cors\",\n",
    "    \"sec-fetch-site\": \"same-site\",\n",
    "    \"x-tenant-id\": \"uat\",\n",
    "    \"referer\": \"https://uat.kingwork.vn/\"\n",
    "}\n",
    "\n",
    "response = requests.get(url, headers=headers)\n",
    "\n",
    "# In kết quả\n",
    "if response.ok:\n",
    "    print(\"✅ Dữ liệu trả về:\")\n",
    "    print(response.json())\n",
    "else:\n",
    "    print(f\"❌ Lỗi {response.status_code}: {response.text}\")\n",
    "    \n",
    "    \n",
    "data= response.json()\n",
    "# len(data[\"data\"][\"result\"])\n",
    "\n",
    "\n"
   ]
  },
  {
   "cell_type": "code",
   "execution_count": 136,
   "id": "8e4a502f",
   "metadata": {},
   "outputs": [
    {
     "data": {
      "text/plain": [
       "{'deleteFlag': False,\n",
       " 'createdAt': '2024-05-10T06:48:30.595Z',\n",
       " 'createdBy': '201b6737-b68a-4be2-abf4-1753679099c9',\n",
       " 'updatedBy': '201b6737-b68a-4be2-abf4-1753679099c9',\n",
       " 'updatedAt': '2024-05-10T06:48:30.595Z',\n",
       " 'version': 1,\n",
       " 'id': 1,\n",
       " 'position': '',\n",
       " 'joinDate': None,\n",
       " 'endDate': None,\n",
       " 'projectLeadStartDate': None,\n",
       " 'projectLeadEndDate': None,\n",
       " 'isProjectLeader': False,\n",
       " 'projectCode': 'PJ1',\n",
       " 'userId': '980e42c4-cda3-4e78-b805-f6bfffd29849',\n",
       " 'requestLineId': None}"
      ]
     },
     "execution_count": 136,
     "metadata": {},
     "output_type": "execute_result"
    }
   ],
   "source": [
    "data[\"data\"][\"result\"][0]\n",
    "# len(data[\"data\"][\"result\"])"
   ]
  },
  {
   "cell_type": "code",
   "execution_count": 117,
   "id": "85dbffff",
   "metadata": {},
   "outputs": [
    {
     "data": {
      "text/plain": [
       "1082"
      ]
     },
     "execution_count": 117,
     "metadata": {},
     "output_type": "execute_result"
    }
   ],
   "source": [
    "data[\"data\"][\"total\"]"
   ]
  },
  {
   "cell_type": "code",
   "execution_count": 134,
   "id": "481411e5",
   "metadata": {},
   "outputs": [
    {
     "data": {
      "text/plain": [
       "1082"
      ]
     },
     "execution_count": 134,
     "metadata": {},
     "output_type": "execute_result"
    }
   ],
   "source": [
    "len(data[\"data\"][\"result\"])"
   ]
  }
 ],
 "metadata": {
  "kernelspec": {
   "display_name": "mcpv2",
   "language": "python",
   "name": "python3"
  },
  "language_info": {
   "codemirror_mode": {
    "name": "ipython",
    "version": 3
   },
   "file_extension": ".py",
   "mimetype": "text/x-python",
   "name": "python",
   "nbconvert_exporter": "python",
   "pygments_lexer": "ipython3",
   "version": "3.12.0"
  }
 },
 "nbformat": 4,
 "nbformat_minor": 5
}
