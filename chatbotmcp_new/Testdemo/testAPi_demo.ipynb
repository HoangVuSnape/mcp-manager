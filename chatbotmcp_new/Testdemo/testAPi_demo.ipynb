{
 "cells": [
  {
   "cell_type": "code",
   "execution_count": 1,
   "id": "9da22d38",
   "metadata": {},
   "outputs": [],
   "source": [
    "import asyncio\n",
    "import os\n",
    "import shutil\n",
    "import subprocess\n",
    "import time\n",
    "from typing import Any\n",
    "\n",
    "from agents import Agent, Runner, gen_trace_id, trace\n",
    "from agents.mcp import MCPServer, MCPServerSse\n",
    "from agents.model_settings import ModelSettings\n",
    "from dotenv import load_dotenv\n",
    "# load_dotenv()\n"
   ]
  },
  {
   "cell_type": "code",
   "execution_count": null,
   "id": "4f140c2c",
   "metadata": {},
   "outputs": [],
   "source": [
    "from dotenv import load_dotenv\n",
    "load_dotenv()\n",
    "import os"
   ]
  },
  {
   "cell_type": "code",
   "execution_count": null,
   "id": "cb43b7c2",
   "metadata": {},
   "outputs": [],
   "source": [
    "prompt = \"\"\"\n",
    "Bạn là một trợ lý AI, có thể trả lời các câu hỏi và thực hiện các tác vụ theo yêu cầu của người dùng.\n",
    "Không có tự bịa ra kết quả. Nếu gọi tool không có thì sẽ nói không gọi được \"\"\""
   ]
  },
  {
   "cell_type": "markdown",
   "id": "50451d28",
   "metadata": {},
   "source": [
    "# Task 1"
   ]
  },
  {
   "cell_type": "code",
   "execution_count": 3,
   "id": "a6440ebe",
   "metadata": {},
   "outputs": [],
   "source": [
    "async def runALL(question):\n",
    "    async def run(mcp_server: MCPServer):\n",
    "        agent = Agent(\n",
    "            name=\"Assistant\",\n",
    "            instructions=\"Use the tools to answer the questions.\",\n",
    "            mcp_servers=[mcp_server],\n",
    "            model_settings=ModelSettings(tool_choice=\"required\"),\n",
    "        )\n",
    "\n",
    "        message = f\"\"\"\n",
    "        {prompt}\n",
    "        Question: {question}\n",
    "        Trả lời: \n",
    "        \"\"\"\n",
    "        # print(f\"\\n\\nRunning: {message}\")\n",
    "        result = await Runner.run(starting_agent=agent, input=message)\n",
    "        print(result.final_output)\n",
    "\n",
    "    async def main():\n",
    "        async with MCPServerSse(\n",
    "            name=\"SSE Python Server\",\n",
    "            params={\n",
    "                \"url\": \"http://localhost:8000/sse\",\n",
    "            },\n",
    "        ) as server:\n",
    "            await run(server)\n",
    "\n",
    "    await main()\n"
   ]
  },
  {
   "cell_type": "code",
   "execution_count": 4,
   "id": "bfb50e9d",
   "metadata": {},
   "outputs": [
    {
     "name": "stdout",
     "output_type": "stream",
     "text": [
      "Thông tin nhân viên có tên 'Dai' từ KingWork API như sau:\n",
      "\n",
      "- **Tên đầy đủ**: Ba Dai Nguyen\n",
      "- **Email**: nguyen.ba.dai@innotech-vn.com\n",
      "- **Giới tính**: Nam\n",
      "- **Cấp bậc**: Level 3\n",
      "- **Chức vụ**: Staff\n",
      "- **Trạng thái nhận việc**: Onboard\n",
      "- **Ngày bắt đầu làm việc**: 19/05/2025\n",
      "- **Ngày sinh**: 31/12/1979\n",
      "- **Email cá nhân**: nguyen.ba.dai@innotech-vn.com\n",
      "- **Mã quản lý**: 00473\n",
      "- **Mã nhân viên**: 44755\n",
      "- **Tên quản lý**: Phát Thành\n",
      "- **Trạng thái nhân viên**: Probation\n",
      "\n",
      "Nếu cần thêm thông tin chi tiết, xin vui lòng cho biết!\n"
     ]
    }
   ],
   "source": [
    "await runALL(\"Lấy thôn tin nhân viên có tên là 'dai' từ KingWork API.\")\n"
   ]
  },
  {
   "cell_type": "code",
   "execution_count": 21,
   "id": "82d551d0",
   "metadata": {},
   "outputs": [
    {
     "name": "stdout",
     "output_type": "stream",
     "text": [
      "Thông tin cá nhân của bạn Nguyễn Bá Đại:\n",
      "\n",
      "- **Họ và tên**: Nguyễn Bá Đại\n",
      "- **Email**: nguyen.ba.dai@innotech-vn.com\n",
      "- **Giới tính**: Nam\n",
      "- **Trình độ**: Level 3\n",
      "- **Vị trí**: Staff\n",
      "- **Trạng thái**: Onboard\n",
      "- **Ngày bắt đầu**: 19/05/2025\n",
      "- **Ngày sinh**: 31/12/1979\n",
      "- **Tình trạng hôn nhân**: Không rõ\n",
      "- **Người quản lý**: Phát Thành\n",
      "- **Mã nhân viên**: 44755\n",
      "\n",
      "Nếu bạn cần thêm thông tin, vui lòng cho tôi biết!\n"
     ]
    }
   ],
   "source": [
    "question = \"Thông tin cá nhân của bạn Đại\"\n",
    "await runALL(question)\n"
   ]
  },
  {
   "cell_type": "code",
   "execution_count": null,
   "id": "97ef779f",
   "metadata": {},
   "outputs": [],
   "source": [
    "question = \"Danh sách tool mpc server có\"\n",
    "await runALL(question)"
   ]
  },
  {
   "cell_type": "markdown",
   "id": "65e5ec9d",
   "metadata": {},
   "source": [
    "# Task 2, 3 \n",
    "- Người phụ thuộc và contract đều (Rỗng với null)"
   ]
  },
  {
   "cell_type": "code",
   "execution_count": 22,
   "id": "8ef72bf1",
   "metadata": {},
   "outputs": [
    {
     "name": "stdout",
     "output_type": "stream",
     "text": [
      "Người tên Đại không có người phụ thuộc nào theo dữ liệu có sẵn.\n"
     ]
    }
   ],
   "source": [
    "question = \"Bạn tên đại có người phụ thuộc hay không?\"\n",
    "await runALL(question)\n"
   ]
  }
 ],
 "metadata": {
  "kernelspec": {
   "display_name": "mcpv2",
   "language": "python",
   "name": "python3"
  },
  "language_info": {
   "codemirror_mode": {
    "name": "ipython",
    "version": 3
   },
   "file_extension": ".py",
   "mimetype": "text/x-python",
   "name": "python",
   "nbconvert_exporter": "python",
   "pygments_lexer": "ipython3",
   "version": "3.12.0"
  }
 },
 "nbformat": 4,
 "nbformat_minor": 5
}
